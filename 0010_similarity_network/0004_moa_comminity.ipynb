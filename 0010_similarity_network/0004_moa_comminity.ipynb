{
 "cells": [
  {
   "cell_type": "markdown",
   "metadata": {},
   "source": [
    "# Connect CHEMBL MOA to NSC numbers"
   ]
  },
  {
   "cell_type": "markdown",
   "metadata": {},
   "source": [
    "## Init"
   ]
  },
  {
   "cell_type": "code",
   "execution_count": 1,
   "metadata": {},
   "outputs": [],
   "source": [
    "import json\n",
    "from os.path import join as path_join\n",
    "\n",
    "from py2neo import Graph\n",
    "from tqdm import tqdm"
   ]
  },
  {
   "cell_type": "code",
   "execution_count": 2,
   "metadata": {},
   "outputs": [],
   "source": [
    "with open(path_join(\"results\", \"all_moa_with_NSC_filtered.json\"), \"r\") as f:\n",
    "    all_moa = json.load(f)"
   ]
  },
  {
   "cell_type": "code",
   "execution_count": 5,
   "metadata": {},
   "outputs": [],
   "source": [
    "with open(\"config.json\") as f:\n",
    "    config = json.load(f)\n",
    "\n",
    "neo4j_url = config.get(\"neo4jUrl\", \"bolt://localhost:7687\")\n",
    "user = config.get(\"user\", \"neo4j\")\n",
    "pswd = config.get(\"pswd\", \"password\")\n",
    "neo4j_import_loc = config[\"neo4j_import_loc\"]\n",
    "\n",
    "graph = Graph(neo4j_url, auth=(user, pswd))"
   ]
  },
  {
   "cell_type": "markdown",
   "metadata": {},
   "source": [
    "## Visualize results"
   ]
  },
  {
   "cell_type": "code",
   "execution_count": 3,
   "metadata": {},
   "outputs": [
    {
     "data": {
      "text/html": [
       "<div>\n",
       "<style scoped>\n",
       "    .dataframe tbody tr th:only-of-type {\n",
       "        vertical-align: middle;\n",
       "    }\n",
       "\n",
       "    .dataframe tbody tr th {\n",
       "        vertical-align: top;\n",
       "    }\n",
       "\n",
       "    .dataframe thead th {\n",
       "        text-align: right;\n",
       "    }\n",
       "</style>\n",
       "<table border=\"1\" class=\"dataframe\">\n",
       "  <thead>\n",
       "    <tr style=\"text-align: right;\">\n",
       "      <th></th>\n",
       "      <th>target_id</th>\n",
       "      <th>chem_id</th>\n",
       "      <th>chem_name</th>\n",
       "      <th>mechanism_action_type</th>\n",
       "      <th>syn_name</th>\n",
       "      <th>syn_id</th>\n",
       "      <th>NSC</th>\n",
       "      <th>all_NSC</th>\n",
       "    </tr>\n",
       "  </thead>\n",
       "  <tbody>\n",
       "    <tr>\n",
       "      <th>0</th>\n",
       "      <td>CHEMBL222</td>\n",
       "      <td>CHEMBL1201178</td>\n",
       "      <td>LISDEXAMFETAMINE DIMESYLATE</td>\n",
       "      <td>RELEASING AGENT</td>\n",
       "      <td>lisdexamfetamine dimesylate</td>\n",
       "      <td>ace4beadbe58112b02f8d433be006aec</td>\n",
       "      <td>NaN</td>\n",
       "      <td>NaN</td>\n",
       "    </tr>\n",
       "    <tr>\n",
       "      <th>1</th>\n",
       "      <td>CHEMBL222</td>\n",
       "      <td>CHEMBL1200948</td>\n",
       "      <td>TRIMIPRAMINE MALEATE</td>\n",
       "      <td>INHIBITOR</td>\n",
       "      <td>(+)-trimipramine maleate</td>\n",
       "      <td>1da0de9bb2a6d5a072ad90e013f6026f</td>\n",
       "      <td>758386.0</td>\n",
       "      <td>NaN</td>\n",
       "    </tr>\n",
       "    <tr>\n",
       "      <th>2</th>\n",
       "      <td>CHEMBL222</td>\n",
       "      <td>CHEMBL1201023</td>\n",
       "      <td>ORPHENADRINE HYDROCHLORIDE</td>\n",
       "      <td>INHIBITOR</td>\n",
       "      <td>chembl1201023</td>\n",
       "      <td>a6ea5c34d27a943e59816bf307b0e8c1</td>\n",
       "      <td>82357.0</td>\n",
       "      <td>NaN</td>\n",
       "    </tr>\n",
       "    <tr>\n",
       "      <th>3</th>\n",
       "      <td>CHEMBL1881</td>\n",
       "      <td>CHEMBL563646</td>\n",
       "      <td>EVATANEPAG</td>\n",
       "      <td>AGONIST</td>\n",
       "      <td>chembl563646</td>\n",
       "      <td>c1695f789b126451754ec1596daa1c56</td>\n",
       "      <td>NaN</td>\n",
       "      <td>NaN</td>\n",
       "    </tr>\n",
       "    <tr>\n",
       "      <th>4</th>\n",
       "      <td>CHEMBL222</td>\n",
       "      <td>CHEMBL1200395</td>\n",
       "      <td>ORPHENADRINE CITRATE</td>\n",
       "      <td>INHIBITOR</td>\n",
       "      <td>orphenadrine (citrate)</td>\n",
       "      <td>c0d7fb5e85435950d5c069611267d125</td>\n",
       "      <td>757238.0</td>\n",
       "      <td>NaN</td>\n",
       "    </tr>\n",
       "  </tbody>\n",
       "</table>\n",
       "</div>"
      ],
      "text/plain": [
       "    target_id        chem_id                    chem_name  \\\n",
       "0   CHEMBL222  CHEMBL1201178  LISDEXAMFETAMINE DIMESYLATE   \n",
       "1   CHEMBL222  CHEMBL1200948         TRIMIPRAMINE MALEATE   \n",
       "2   CHEMBL222  CHEMBL1201023   ORPHENADRINE HYDROCHLORIDE   \n",
       "3  CHEMBL1881   CHEMBL563646                   EVATANEPAG   \n",
       "4   CHEMBL222  CHEMBL1200395         ORPHENADRINE CITRATE   \n",
       "\n",
       "  mechanism_action_type                     syn_name  \\\n",
       "0       RELEASING AGENT  lisdexamfetamine dimesylate   \n",
       "1             INHIBITOR     (+)-trimipramine maleate   \n",
       "2             INHIBITOR                chembl1201023   \n",
       "3               AGONIST                 chembl563646   \n",
       "4             INHIBITOR       orphenadrine (citrate)   \n",
       "\n",
       "                             syn_id       NSC all_NSC  \n",
       "0  ace4beadbe58112b02f8d433be006aec       NaN     NaN  \n",
       "1  1da0de9bb2a6d5a072ad90e013f6026f  758386.0     NaN  \n",
       "2  a6ea5c34d27a943e59816bf307b0e8c1   82357.0     NaN  \n",
       "3  c1695f789b126451754ec1596daa1c56       NaN     NaN  \n",
       "4  c0d7fb5e85435950d5c069611267d125  757238.0     NaN  "
      ]
     },
     "execution_count": 3,
     "metadata": {},
     "output_type": "execute_result"
    }
   ],
   "source": [
    "import pandas as pd\n",
    "\n",
    "all_moa_pd = pd.DataFrame(all_moa)\n",
    "all_moa_pd.head()"
   ]
  }
 ],
 "metadata": {
  "kernelspec": {
   "display_name": "Python 3.9.12 ('py3_9')",
   "language": "python",
   "name": "python3"
  },
  "language_info": {
   "codemirror_mode": {
    "name": "ipython",
    "version": 3
   },
   "file_extension": ".py",
   "mimetype": "text/x-python",
   "name": "python",
   "nbconvert_exporter": "python",
   "pygments_lexer": "ipython3",
   "version": "3.9.12"
  },
  "orig_nbformat": 4,
  "vscode": {
   "interpreter": {
    "hash": "8738a2aa024c54d317ff0f957b7d1d1075af056ba51a00cd907e74602a3374b7"
   }
  }
 },
 "nbformat": 4,
 "nbformat_minor": 2
}
