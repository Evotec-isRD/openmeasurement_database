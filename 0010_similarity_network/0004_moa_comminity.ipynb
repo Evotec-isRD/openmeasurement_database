{
 "cells": [
  {
   "cell_type": "markdown",
   "metadata": {},
   "source": [
    "# Connect CHEMBL MOA to NSC numbers"
   ]
  },
  {
   "cell_type": "markdown",
   "metadata": {},
   "source": [
    "## Init"
   ]
  },
  {
   "cell_type": "code",
   "execution_count": 1,
   "metadata": {},
   "outputs": [],
   "source": [
    "import json\n",
    "from os.path import join as path_join\n",
    "\n",
    "import pandas as pd\n",
    "from py2neo import Graph\n",
    "from tqdm import tqdm"
   ]
  },
  {
   "cell_type": "code",
   "execution_count": 2,
   "metadata": {},
   "outputs": [],
   "source": [
    "with open(path_join(\"results\", \"all_moa_with_NSC_filtered.json\"), \"r\") as f:\n",
    "    all_moa = json.load(f)"
   ]
  },
  {
   "cell_type": "code",
   "execution_count": 3,
   "metadata": {},
   "outputs": [],
   "source": [
    "with open(\"config.json\") as f:\n",
    "    config = json.load(f)\n",
    "\n",
    "neo4j_url = config.get(\"neo4jUrl\", \"bolt://localhost:7687\")\n",
    "user = config.get(\"user\", \"neo4j\")\n",
    "pswd = config.get(\"pswd\", \"password\")\n",
    "neo4j_import_loc = config[\"neo4j_import_loc\"]\n",
    "\n",
    "graph = Graph(neo4j_url, auth=(user, pswd))"
   ]
  },
  {
   "cell_type": "markdown",
   "metadata": {},
   "source": [
    "## Visualize results"
   ]
  },
  {
   "cell_type": "code",
   "execution_count": 22,
   "metadata": {},
   "outputs": [
    {
     "data": {
      "text/html": [
       "<div>\n",
       "<style scoped>\n",
       "    .dataframe tbody tr th:only-of-type {\n",
       "        vertical-align: middle;\n",
       "    }\n",
       "\n",
       "    .dataframe tbody tr th {\n",
       "        vertical-align: top;\n",
       "    }\n",
       "\n",
       "    .dataframe thead th {\n",
       "        text-align: right;\n",
       "    }\n",
       "</style>\n",
       "<table border=\"1\" class=\"dataframe\">\n",
       "  <thead>\n",
       "    <tr style=\"text-align: right;\">\n",
       "      <th></th>\n",
       "      <th>target_id</th>\n",
       "      <th>chem_id</th>\n",
       "      <th>chem_name</th>\n",
       "      <th>mechanism_action_type</th>\n",
       "      <th>syn_name</th>\n",
       "      <th>syn_id</th>\n",
       "      <th>all_NSC</th>\n",
       "    </tr>\n",
       "  </thead>\n",
       "  <tbody>\n",
       "    <tr>\n",
       "      <th>0</th>\n",
       "      <td>CHEMBL222</td>\n",
       "      <td>CHEMBL1201178</td>\n",
       "      <td>LISDEXAMFETAMINE DIMESYLATE</td>\n",
       "      <td>RELEASING AGENT</td>\n",
       "      <td>lisdexamfetamine dimesylate</td>\n",
       "      <td>ace4beadbe58112b02f8d433be006aec</td>\n",
       "      <td>NaN</td>\n",
       "    </tr>\n",
       "    <tr>\n",
       "      <th>1</th>\n",
       "      <td>CHEMBL222</td>\n",
       "      <td>CHEMBL1200948</td>\n",
       "      <td>TRIMIPRAMINE MALEATE</td>\n",
       "      <td>INHIBITOR</td>\n",
       "      <td>(+)-trimipramine maleate</td>\n",
       "      <td>1da0de9bb2a6d5a072ad90e013f6026f</td>\n",
       "      <td>[758386]</td>\n",
       "    </tr>\n",
       "    <tr>\n",
       "      <th>2</th>\n",
       "      <td>CHEMBL222</td>\n",
       "      <td>CHEMBL1201023</td>\n",
       "      <td>ORPHENADRINE HYDROCHLORIDE</td>\n",
       "      <td>INHIBITOR</td>\n",
       "      <td>chembl1201023</td>\n",
       "      <td>a6ea5c34d27a943e59816bf307b0e8c1</td>\n",
       "      <td>[82357]</td>\n",
       "    </tr>\n",
       "    <tr>\n",
       "      <th>3</th>\n",
       "      <td>CHEMBL1881</td>\n",
       "      <td>CHEMBL563646</td>\n",
       "      <td>EVATANEPAG</td>\n",
       "      <td>AGONIST</td>\n",
       "      <td>chembl563646</td>\n",
       "      <td>c1695f789b126451754ec1596daa1c56</td>\n",
       "      <td>NaN</td>\n",
       "    </tr>\n",
       "    <tr>\n",
       "      <th>4</th>\n",
       "      <td>CHEMBL222</td>\n",
       "      <td>CHEMBL1200395</td>\n",
       "      <td>ORPHENADRINE CITRATE</td>\n",
       "      <td>INHIBITOR</td>\n",
       "      <td>orphenadrine (citrate)</td>\n",
       "      <td>c0d7fb5e85435950d5c069611267d125</td>\n",
       "      <td>[757238]</td>\n",
       "    </tr>\n",
       "  </tbody>\n",
       "</table>\n",
       "</div>"
      ],
      "text/plain": [
       "    target_id        chem_id                    chem_name  \\\n",
       "0   CHEMBL222  CHEMBL1201178  LISDEXAMFETAMINE DIMESYLATE   \n",
       "1   CHEMBL222  CHEMBL1200948         TRIMIPRAMINE MALEATE   \n",
       "2   CHEMBL222  CHEMBL1201023   ORPHENADRINE HYDROCHLORIDE   \n",
       "3  CHEMBL1881   CHEMBL563646                   EVATANEPAG   \n",
       "4   CHEMBL222  CHEMBL1200395         ORPHENADRINE CITRATE   \n",
       "\n",
       "  mechanism_action_type                     syn_name  \\\n",
       "0       RELEASING AGENT  lisdexamfetamine dimesylate   \n",
       "1             INHIBITOR     (+)-trimipramine maleate   \n",
       "2             INHIBITOR                chembl1201023   \n",
       "3               AGONIST                 chembl563646   \n",
       "4             INHIBITOR       orphenadrine (citrate)   \n",
       "\n",
       "                             syn_id   all_NSC  \n",
       "0  ace4beadbe58112b02f8d433be006aec       NaN  \n",
       "1  1da0de9bb2a6d5a072ad90e013f6026f  [758386]  \n",
       "2  a6ea5c34d27a943e59816bf307b0e8c1   [82357]  \n",
       "3  c1695f789b126451754ec1596daa1c56       NaN  \n",
       "4  c0d7fb5e85435950d5c069611267d125  [757238]  "
      ]
     },
     "execution_count": 22,
     "metadata": {},
     "output_type": "execute_result"
    }
   ],
   "source": [
    "all_moa_pd = pd.DataFrame(all_moa)\n",
    "all_moa_pd.head()"
   ]
  },
  {
   "cell_type": "code",
   "execution_count": 5,
   "metadata": {},
   "outputs": [
    {
     "data": {
      "image/png": "[encoded data removed]",
      "text/plain": [
       "<Figure size 1152x576 with 1 Axes>"
      ]
     },
     "metadata": {
      "needs_background": "light"
     },
     "output_type": "display_data"
    }
   ],
   "source": [
    "import matplotlib.pyplot as plt\n",
    "plt.figure(figsize=(16, 8))\n",
    "_ = all_moa_pd.target_id.value_counts().hist(bins=100)"
   ]
  },
  {
   "cell_type": "code",
   "execution_count": 31,
   "metadata": {},
   "outputs": [
    {
     "name": "stderr",
     "output_type": "stream",
     "text": [
      "5140it [00:05, 938.30it/s] \n"
     ]
    }
   ],
   "source": [
    "all_moa_pd[\"community\"] = None\n",
    "for moa in tqdm(all_moa_pd.iterrows()):\n",
    "    all_nscs = moa[1][\"all_NSC\"]\n",
    "    chem_id = moa[1][\"chem_id\"]\n",
    "    if all_nscs is None:\n",
    "        continue\n",
    "    response = graph.run(\n",
    "        \"\"\"\n",
    "        MATCH (c:Chemical)\n",
    "        WHERE c.nscNumber in $nscs\n",
    "        RETURN c.community as community\n",
    "        \"\"\", nscs = all_nscs\n",
    "    ).data()\n",
    "    if len(response) == 0:\n",
    "        continue\n",
    "    all_moa_pd.loc[all_moa_pd.chem_id == chem_id, 'community'] = response[0][\"community\"]"
   ]
  },
  {
   "cell_type": "code",
   "execution_count": 35,
   "metadata": {},
   "outputs": [
    {
     "data": {
      "text/html": [
       "<div>\n",
       "<style scoped>\n",
       "    .dataframe tbody tr th:only-of-type {\n",
       "        vertical-align: middle;\n",
       "    }\n",
       "\n",
       "    .dataframe tbody tr th {\n",
       "        vertical-align: top;\n",
       "    }\n",
       "\n",
       "    .dataframe thead th {\n",
       "        text-align: right;\n",
       "    }\n",
       "</style>\n",
       "<table border=\"1\" class=\"dataframe\">\n",
       "  <thead>\n",
       "    <tr style=\"text-align: right;\">\n",
       "      <th></th>\n",
       "      <th>target_id</th>\n",
       "      <th>chem_id</th>\n",
       "      <th>chem_name</th>\n",
       "      <th>mechanism_action_type</th>\n",
       "      <th>syn_name</th>\n",
       "      <th>syn_id</th>\n",
       "      <th>all_NSC</th>\n",
       "      <th>community</th>\n",
       "    </tr>\n",
       "  </thead>\n",
       "  <tbody>\n",
       "    <tr>\n",
       "      <th>7</th>\n",
       "      <td>CHEMBL222</td>\n",
       "      <td>CHEMBL1200724</td>\n",
       "      <td>PSEUDOEPHEDRINE HYDROCHLORIDE</td>\n",
       "      <td>RELEASING AGENT</td>\n",
       "      <td>chembl1200724</td>\n",
       "      <td>81276db32c5339e1adb43d07c7756f1c</td>\n",
       "      <td>[106567, 759616, 33634]</td>\n",
       "      <td>15158</td>\n",
       "    </tr>\n",
       "    <tr>\n",
       "      <th>8</th>\n",
       "      <td>CHEMBL5366</td>\n",
       "      <td>CHEMBL1094636</td>\n",
       "      <td>NIRAPARIB</td>\n",
       "      <td>INHIBITOR</td>\n",
       "      <td>chembl1094636</td>\n",
       "      <td>a313b67a5b44638ee61c2c30e78ec3eb</td>\n",
       "      <td>[754355, 800020]</td>\n",
       "      <td>46475</td>\n",
       "    </tr>\n",
       "    <tr>\n",
       "      <th>13</th>\n",
       "      <td>CHEMBL2095165</td>\n",
       "      <td>CHEMBL252164</td>\n",
       "      <td>LUMINESPIB</td>\n",
       "      <td>INHIBITOR</td>\n",
       "      <td>chembl252164</td>\n",
       "      <td>70c7926b17740828f5be99bb91b86bbe</td>\n",
       "      <td>[755762]</td>\n",
       "      <td>53142</td>\n",
       "    </tr>\n",
       "    <tr>\n",
       "      <th>14</th>\n",
       "      <td>CHEMBL2742</td>\n",
       "      <td>CHEMBL1201733</td>\n",
       "      <td>PAZOPANIB HYDROCHLORIDE</td>\n",
       "      <td>INHIBITOR</td>\n",
       "      <td>chembl1201733</td>\n",
       "      <td>6181d6610a472a9ad50678be0eee399d</td>\n",
       "      <td>[737754]</td>\n",
       "      <td>46475</td>\n",
       "    </tr>\n",
       "    <tr>\n",
       "      <th>20</th>\n",
       "      <td>CHEMBL2107</td>\n",
       "      <td>CHEMBL18442</td>\n",
       "      <td>PLERIXAFOR</td>\n",
       "      <td>PARTIAL AGONIST</td>\n",
       "      <td>chembl18442</td>\n",
       "      <td>23f527e8b313312a08f6362c6918d932</td>\n",
       "      <td>[761388, 754363]</td>\n",
       "      <td>15158</td>\n",
       "    </tr>\n",
       "    <tr>\n",
       "      <th>...</th>\n",
       "      <td>...</td>\n",
       "      <td>...</td>\n",
       "      <td>...</td>\n",
       "      <td>...</td>\n",
       "      <td>...</td>\n",
       "      <td>...</td>\n",
       "      <td>...</td>\n",
       "      <td>...</td>\n",
       "    </tr>\n",
       "    <tr>\n",
       "      <th>5130</th>\n",
       "      <td>CHEMBL1974</td>\n",
       "      <td>CHEMBL1721885</td>\n",
       "      <td>SU-014813</td>\n",
       "      <td>INHIBITOR</td>\n",
       "      <td>su-014813</td>\n",
       "      <td>f84aa622a49bca152e60229e9399787b</td>\n",
       "      <td>[800936]</td>\n",
       "      <td>3362</td>\n",
       "    </tr>\n",
       "    <tr>\n",
       "      <th>5131</th>\n",
       "      <td>CHEMBL1936</td>\n",
       "      <td>CHEMBL1721885</td>\n",
       "      <td>SU-014813</td>\n",
       "      <td>INHIBITOR</td>\n",
       "      <td>su-014813</td>\n",
       "      <td>f84aa622a49bca152e60229e9399787b</td>\n",
       "      <td>[800936]</td>\n",
       "      <td>3362</td>\n",
       "    </tr>\n",
       "    <tr>\n",
       "      <th>5133</th>\n",
       "      <td>CHEMBL2095203</td>\n",
       "      <td>CHEMBL2448612</td>\n",
       "      <td>ERGOTAMINE TARTRATE</td>\n",
       "      <td>AGONIST</td>\n",
       "      <td>ergotamine tartrate</td>\n",
       "      <td>4421f11d8bb61c7a36a169a87f984180</td>\n",
       "      <td>[41869, 95090]</td>\n",
       "      <td>46475</td>\n",
       "    </tr>\n",
       "    <tr>\n",
       "      <th>5134</th>\n",
       "      <td>CHEMBL1991</td>\n",
       "      <td>CHEMBL3545089</td>\n",
       "      <td>IMD-0354</td>\n",
       "      <td>INHIBITOR</td>\n",
       "      <td>imd 0354</td>\n",
       "      <td>6eac82889d9f89baa0ec6f5537e77eef</td>\n",
       "      <td>[816638, 800773]</td>\n",
       "      <td>3362</td>\n",
       "    </tr>\n",
       "    <tr>\n",
       "      <th>5136</th>\n",
       "      <td>CHEMBL2842</td>\n",
       "      <td>CHEMBL3545097</td>\n",
       "      <td>SAPANISERTIB</td>\n",
       "      <td>INHIBITOR</td>\n",
       "      <td>chembl3545097</td>\n",
       "      <td>3a87e5b67dd6b6930fdf7ef482631fe6</td>\n",
       "      <td>[768435, 780880, 764658]</td>\n",
       "      <td>56371</td>\n",
       "    </tr>\n",
       "  </tbody>\n",
       "</table>\n",
       "<p>995 rows × 8 columns</p>\n",
       "</div>"
      ],
      "text/plain": [
       "          target_id        chem_id                      chem_name  \\\n",
       "7         CHEMBL222  CHEMBL1200724  PSEUDOEPHEDRINE HYDROCHLORIDE   \n",
       "8        CHEMBL5366  CHEMBL1094636                      NIRAPARIB   \n",
       "13    CHEMBL2095165   CHEMBL252164                     LUMINESPIB   \n",
       "14       CHEMBL2742  CHEMBL1201733        PAZOPANIB HYDROCHLORIDE   \n",
       "20       CHEMBL2107    CHEMBL18442                     PLERIXAFOR   \n",
       "...             ...            ...                            ...   \n",
       "5130     CHEMBL1974  CHEMBL1721885                      SU-014813   \n",
       "5131     CHEMBL1936  CHEMBL1721885                      SU-014813   \n",
       "5133  CHEMBL2095203  CHEMBL2448612            ERGOTAMINE TARTRATE   \n",
       "5134     CHEMBL1991  CHEMBL3545089                       IMD-0354   \n",
       "5136     CHEMBL2842  CHEMBL3545097                   SAPANISERTIB   \n",
       "\n",
       "     mechanism_action_type             syn_name  \\\n",
       "7          RELEASING AGENT        chembl1200724   \n",
       "8                INHIBITOR        chembl1094636   \n",
       "13               INHIBITOR         chembl252164   \n",
       "14               INHIBITOR        chembl1201733   \n",
       "20         PARTIAL AGONIST          chembl18442   \n",
       "...                    ...                  ...   \n",
       "5130             INHIBITOR            su-014813   \n",
       "5131             INHIBITOR            su-014813   \n",
       "5133               AGONIST  ergotamine tartrate   \n",
       "5134             INHIBITOR             imd 0354   \n",
       "5136             INHIBITOR        chembl3545097   \n",
       "\n",
       "                                syn_id                   all_NSC community  \n",
       "7     81276db32c5339e1adb43d07c7756f1c   [106567, 759616, 33634]     15158  \n",
       "8     a313b67a5b44638ee61c2c30e78ec3eb          [754355, 800020]     46475  \n",
       "13    70c7926b17740828f5be99bb91b86bbe                  [755762]     53142  \n",
       "14    6181d6610a472a9ad50678be0eee399d                  [737754]     46475  \n",
       "20    23f527e8b313312a08f6362c6918d932          [761388, 754363]     15158  \n",
       "...                                ...                       ...       ...  \n",
       "5130  f84aa622a49bca152e60229e9399787b                  [800936]      3362  \n",
       "5131  f84aa622a49bca152e60229e9399787b                  [800936]      3362  \n",
       "5133  4421f11d8bb61c7a36a169a87f984180            [41869, 95090]     46475  \n",
       "5134  6eac82889d9f89baa0ec6f5537e77eef          [816638, 800773]      3362  \n",
       "5136  3a87e5b67dd6b6930fdf7ef482631fe6  [768435, 780880, 764658]     56371  \n",
       "\n",
       "[995 rows x 8 columns]"
      ]
     },
     "execution_count": 35,
     "metadata": {},
     "output_type": "execute_result"
    }
   ],
   "source": [
    "selected_moa = all_moa_pd.loc[all_moa_pd.community.notna()]\n",
    "selected_moa"
   ]
  },
  {
   "cell_type": "code",
   "execution_count": 3,
   "metadata": {},
   "outputs": [],
   "source": [
    "community_target_pivot = pd.pivot_table(selected_moa, values='chem_id', index='community',\n",
    "                    columns='target_id', aggfunc=\"count\", fill_value=0)"
   ]
  },
  {
   "cell_type": "code",
   "execution_count": 4,
   "metadata": {},
   "outputs": [],
   "source": [
    "import numpy as np\n",
    "colums, rows = np.where(community_target_pivot > 1)"
   ]
  },
  {
   "cell_type": "code",
   "execution_count": 51,
   "metadata": {},
   "outputs": [],
   "source": [
    "selected_moa.to_csv(path_join(\"results\", \"all_selected_moa.json\"))"
   ]
  },
  {
   "cell_type": "code",
   "execution_count": 2,
   "metadata": {},
   "outputs": [],
   "source": [
    "selected_moa = pd.read_csv(path_join(\"results\", \"all_selected_moa.json\"))"
   ]
  },
  {
   "cell_type": "code",
   "execution_count": 5,
   "metadata": {},
   "outputs": [
    {
     "ename": "AttributeError",
     "evalue": "'DataFrame' object has no attribute 'target_id'",
     "output_type": "error",
     "traceback": [
      "\u001b[1;31m---------------------------------------------------------------------------\u001b[0m",
      "\u001b[1;31mAttributeError\u001b[0m                            Traceback (most recent call last)",
      "\u001b[1;32mc:\\Users\\tomni\\github\\openmeasurement_neo4j\\0010_similarity_network\\0004_moa_comminity.ipynb Cell 15\u001b[0m in \u001b[0;36m<cell line: 1>\u001b[1;34m()\u001b[0m\n\u001b[1;32m----> <a href='vscode-notebook-cell:/c%3A/Users/tomni/github/openmeasurement_neo4j/0010_similarity_network/0004_moa_comminity.ipynb#X20sZmlsZQ%3D%3D?line=0'>1</a>\u001b[0m community_target_pivot\u001b[39m.\u001b[39;49mtarget_id[colums]\n",
      "File \u001b[1;32mc:\\Users\\tomni\\anaconda3\\envs\\py3_9\\lib\\site-packages\\pandas\\core\\generic.py:5478\u001b[0m, in \u001b[0;36mNDFrame.__getattr__\u001b[1;34m(self, name)\u001b[0m\n\u001b[0;32m   5471\u001b[0m \u001b[39mif\u001b[39;00m (\n\u001b[0;32m   5472\u001b[0m     name \u001b[39mnot\u001b[39;00m \u001b[39min\u001b[39;00m \u001b[39mself\u001b[39m\u001b[39m.\u001b[39m_internal_names_set\n\u001b[0;32m   5473\u001b[0m     \u001b[39mand\u001b[39;00m name \u001b[39mnot\u001b[39;00m \u001b[39min\u001b[39;00m \u001b[39mself\u001b[39m\u001b[39m.\u001b[39m_metadata\n\u001b[0;32m   5474\u001b[0m     \u001b[39mand\u001b[39;00m name \u001b[39mnot\u001b[39;00m \u001b[39min\u001b[39;00m \u001b[39mself\u001b[39m\u001b[39m.\u001b[39m_accessors\n\u001b[0;32m   5475\u001b[0m     \u001b[39mand\u001b[39;00m \u001b[39mself\u001b[39m\u001b[39m.\u001b[39m_info_axis\u001b[39m.\u001b[39m_can_hold_identifiers_and_holds_name(name)\n\u001b[0;32m   5476\u001b[0m ):\n\u001b[0;32m   5477\u001b[0m     \u001b[39mreturn\u001b[39;00m \u001b[39mself\u001b[39m[name]\n\u001b[1;32m-> 5478\u001b[0m \u001b[39mreturn\u001b[39;00m \u001b[39mobject\u001b[39;49m\u001b[39m.\u001b[39;49m\u001b[39m__getattribute__\u001b[39;49m(\u001b[39mself\u001b[39;49m, name)\n",
      "\u001b[1;31mAttributeError\u001b[0m: 'DataFrame' object has no attribute 'target_id'"
     ]
    }
   ],
   "source": [
    "community_target_pivot.target_id[colums]"
   ]
  }
 ],
 "metadata": {
  "kernelspec": {
   "display_name": "Python 3.9.12 ('py3_9')",
   "language": "python",
   "name": "python3"
  },
  "language_info": {
   "codemirror_mode": {
    "name": "ipython",
    "version": 3
   },
   "file_extension": ".py",
   "mimetype": "text/x-python",
   "name": "python",
   "nbconvert_exporter": "python",
   "pygments_lexer": "ipython3",
   "version": "3.9.12 (main, Apr  4 2022, 05:22:27) [MSC v.1916 64 bit (AMD64)]"
  },
  "orig_nbformat": 4,
  "vscode": {
   "interpreter": {
    "hash": "8738a2aa024c54d317ff0f957b7d1d1075af056ba51a00cd907e74602a3374b7"
   }
  }
 },
 "nbformat": 4,
 "nbformat_minor": 2
}
