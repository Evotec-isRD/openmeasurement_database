{
 "cells": [
  {
   "cell_type": "code",
   "execution_count": 16,
   "metadata": {},
   "outputs": [],
   "source": [
    "import json\n",
    "from os.path import join as path_join\n",
    "\n",
    "from py2neo import Graph\n",
    "from tqdm import tqdm"
   ]
  },
  {
   "cell_type": "code",
   "execution_count": 2,
   "metadata": {},
   "outputs": [],
   "source": [
    "with open(\"config.json\") as f:\n",
    "    config = json.load(f)\n",
    "\n",
    "neo4j_url = config.get(\"neo4jUrl\", \"bolt://localhost:7687\")\n",
    "user = config.get(\"user\", \"neo4j\")\n",
    "pswd = config.get(\"pswd\", \"password\")\n",
    "neo4j_import_loc = config[\"neo4j_import_loc\"]\n",
    "\n",
    "graph = Graph(neo4j_url, auth=(user, pswd))"
   ]
  },
  {
   "cell_type": "code",
   "execution_count": 14,
   "metadata": {},
   "outputs": [
    {
     "name": "stdout",
     "output_type": "stream",
     "text": [
      "6259\n"
     ]
    }
   ],
   "source": [
    "all_moa = []\n",
    "for i in tqdm(range(0, 6259, 1000)):\n",
    "    response = graph.run(\n",
    "        \"\"\"\n",
    "        MATCH (n)-[:ns0__hasMechanism]->(m:ns0__Mechanism)-[:ns0__hasTarget]->(t) \n",
    "        RETURN t.ns0__chemblId as target_id, n.ns0__chemblId as chem_id, n.rdfs__label as chem_name, m.ns0__mechanismActionType as mechanism_action_type SKIP $skips LIMIT 1000\n",
    "        \"\"\", skips=i\n",
    "    ).data()\n",
    "    all_moa += response\n",
    "print(len(all_moa))"
   ]
  },
  {
   "cell_type": "code",
   "execution_count": 18,
   "metadata": {},
   "outputs": [
    {
     "ename": "",
     "evalue": "",
     "output_type": "error",
     "traceback": [
      "\u001b[1;31mThe Kernel crashed while executing code in the the current cell or a previous cell. Please review the code in the cell(s) to identify a possible cause of the failure. Click <a href='https://aka.ms/vscodeJupyterKernelCrash'>here</a> for more info. View Jupyter <a href='command:jupyter.viewOutput'>log</a> for further details."
     ]
    }
   ],
   "source": [
    "with open(path_join(\"results\", \"all_moa.json\"), \"w\") as f:\n",
    "    json.dump(all_moa, f)"
   ]
  }
 ],
 "metadata": {
  "kernelspec": {
   "display_name": "Python 3.9.12 ('py3_9')",
   "language": "python",
   "name": "python3"
  },
  "language_info": {
   "codemirror_mode": {
    "name": "ipython",
    "version": 3
   },
   "file_extension": ".py",
   "mimetype": "text/x-python",
   "name": "python",
   "nbconvert_exporter": "python",
   "pygments_lexer": "ipython3",
   "version": "3.9.12"
  },
  "orig_nbformat": 4,
  "vscode": {
   "interpreter": {
    "hash": "8738a2aa024c54d317ff0f957b7d1d1075af056ba51a00cd907e74602a3374b7"
   }
  }
 },
 "nbformat": 4,
 "nbformat_minor": 2
}
