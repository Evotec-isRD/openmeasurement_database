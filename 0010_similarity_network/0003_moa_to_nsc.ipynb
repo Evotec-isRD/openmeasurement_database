{
 "cells": [
  {
   "cell_type": "markdown",
   "metadata": {},
   "source": [
    "# Connect CHEMBL MOA to NSC numbers"
   ]
  },
  {
   "cell_type": "markdown",
   "metadata": {},
   "source": [
    "## Init"
   ]
  },
  {
   "cell_type": "code",
   "execution_count": 13,
   "metadata": {},
   "outputs": [],
   "source": [
    "import json\n",
    "from os.path import join as path_join\n",
    "\n",
    "import regex as re\n",
    "import requests\n",
    "from py2neo import Graph\n",
    "from tqdm import tqdm"
   ]
  },
  {
   "cell_type": "code",
   "execution_count": 2,
   "metadata": {},
   "outputs": [],
   "source": [
    "with open(path_join(\"results\", \"all_moa.json\"), \"r\") as f:\n",
    "    all_moa = json.load(f)"
   ]
  },
  {
   "cell_type": "code",
   "execution_count": 3,
   "metadata": {},
   "outputs": [],
   "source": [
    "with open(\"config.json\") as f:\n",
    "    config = json.load(f)\n",
    "\n",
    "neo4j_url = config.get(\"neo4jUrl\", \"bolt://localhost:7687\")\n",
    "user = config.get(\"user\", \"neo4j\")\n",
    "pswd = config.get(\"pswd\", \"password\")\n",
    "neo4j_import_loc = config[\"neo4j_import_loc\"]\n",
    "\n",
    "graph = Graph(neo4j_url, auth=(user, pswd))"
   ]
  },
  {
   "cell_type": "markdown",
   "metadata": {},
   "source": [
    "## Get compound ID"
   ]
  },
  {
   "cell_type": "code",
   "execution_count": 47,
   "metadata": {},
   "outputs": [
    {
     "name": "stderr",
     "output_type": "stream",
     "text": [
      "100%|██████████| 6259/6259 [6:11:15<00:00,  3.56s/it]   \n"
     ]
    }
   ],
   "source": [
    "def update_synonym(name):\n",
    "    parsed_name = name.replace(\" \", \"%20\")\n",
    "    requests.get(\n",
    "            f\"http://127.0.0.1:81/updatePubchemSynonymsByName/?synonym_name={parsed_name}\"\n",
    "        )\n",
    "all_moa_nsc = []\n",
    "for moa in tqdm(all_moa):\n",
    "    chembl_id = moa.get(\"chem_id\")\n",
    "    chembl_name = moa.get(\"chem_name\")\n",
    "\n",
    "    if chembl_id is None and chembl_name is None:\n",
    "        continue\n",
    "\n",
    "    chembl_id = chembl_id.replace(\"CHEMBL\", \"\")\n",
    "    update_synonym(f\"CHEMBL{chembl_id}\")\n",
    "    update_synonym(f\"CHEMBL {chembl_id}\")\n",
    "    update_synonym(f\"CHEMBL-{chembl_id}\")\n",
    "    update_synonym(chembl_name)\n",
    "    clean_chembl_name = \" \".join(re.findall(r\"[\\p{L}\\d]{2,}\", chembl_name))\n",
    "    update_synonym(clean_chembl_name)\n",
    "\n",
    "    response = graph.run(\n",
    "        \"\"\"\n",
    "        CALL {\n",
    "            CALL db.index.fulltext.queryNodes('synonymsFullText', $lucense_query)\n",
    "            YIELD node, score\n",
    "            return node, score limit 10\n",
    "        }\n",
    "        MATCH (node)-[:IS_ATTRIBUTE_OF]->(c:Compound)\n",
    "        WITH c.pubChemCompId as compoundId, collect(node)[0] as node, count(*) as num\n",
    "        RETURN compoundId, node.name as syn_name, node.pubChemSynId as syn_id, num\n",
    "        \"\"\", lucense_query=f\"CHEMBL{chembl_id} OR (chembl AND {chembl_id}) OR ({clean_chembl_name})\"\n",
    "    ).data()\n",
    "        \n",
    "    if len(response) == 0:\n",
    "        continue\n",
    "    if len(response) == 1:\n",
    "        selected_response = response[0]\n",
    "        \n",
    "    else:\n",
    "        selected_response = max(response, key=lambda p: p['num'])\n",
    "    moa[\"syn_name\"] = response[0][\"syn_name\"]\n",
    "    moa[\"syn_id\"] = response[0][\"syn_id\"]\n",
    "    all_moa_nsc.append(moa)"
   ]
  },
  {
   "cell_type": "code",
   "execution_count": 48,
   "metadata": {},
   "outputs": [],
   "source": [
    "with open(path_join(\"results\", \"all_moa_with_synonym.json\"), \"w\") as f:\n",
    "    json.dump(all_moa, f)"
   ]
  },
  {
   "cell_type": "markdown",
   "metadata": {},
   "source": [
    "## Add NSC number"
   ]
  },
  {
   "cell_type": "code",
   "execution_count": null,
   "metadata": {},
   "outputs": [],
   "source": [
    "with open(path_join(\"results\", \"all_moa_with_synonym.json\"), \"r\") as f:\n",
    "    all_moa = json.load(f)"
   ]
  },
  {
   "cell_type": "code",
   "execution_count": null,
   "metadata": {},
   "outputs": [],
   "source": [
    "response = graph.run(\n",
    "    \"\"\"\n",
    "    MATCH (s:Synonym {pubChemSynId: \"a6ea5c34d27a943e59816bf307b0e8c1\"})\n",
    "    MATCH (s)-[:IS_ATTRIBUTE_OF]->(c:Compound)\n",
    "    MATCH (c)<-[:IS_ATTRIBUTE_OF]-(s2:Synonym)\n",
    "    WHERE s2.name CONTAINS \"nsc\"\n",
    "    RETURN c, s2\n",
    "    \"\"\"\n",
    ").data()\n",
    "print(response)"
   ]
  }
 ],
 "metadata": {
  "kernelspec": {
   "display_name": "Python 3.9.12 ('py3_9')",
   "language": "python",
   "name": "python3"
  },
  "language_info": {
   "codemirror_mode": {
    "name": "ipython",
    "version": 3
   },
   "file_extension": ".py",
   "mimetype": "text/x-python",
   "name": "python",
   "nbconvert_exporter": "python",
   "pygments_lexer": "ipython3",
   "version": "3.9.12"
  },
  "orig_nbformat": 4,
  "vscode": {
   "interpreter": {
    "hash": "8738a2aa024c54d317ff0f957b7d1d1075af056ba51a00cd907e74602a3374b7"
   }
  }
 },
 "nbformat": 4,
 "nbformat_minor": 2
}
