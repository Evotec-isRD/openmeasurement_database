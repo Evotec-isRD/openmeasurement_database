{
 "cells": [
  {
   "cell_type": "markdown",
   "metadata": {},
   "source": [
    "# Connect CHEMBL MOA to NSC numbers"
   ]
  },
  {
   "cell_type": "markdown",
   "metadata": {},
   "source": [
    "## Init"
   ]
  },
  {
   "cell_type": "code",
   "execution_count": 1,
   "metadata": {},
   "outputs": [],
   "source": [
    "import json\n",
    "from os.path import join as path_join\n",
    "\n",
    "import regex as re\n",
    "import requests\n",
    "from py2neo import Graph\n",
    "from tqdm import tqdm"
   ]
  },
  {
   "cell_type": "code",
   "execution_count": 2,
   "metadata": {},
   "outputs": [],
   "source": [
    "with open(path_join(\"results\", \"all_moa.json\"), \"r\") as f:\n",
    "    all_moa = json.load(f)"
   ]
  },
  {
   "cell_type": "code",
   "execution_count": 3,
   "metadata": {},
   "outputs": [],
   "source": [
    "with open(\"config.json\") as f:\n",
    "    config = json.load(f)\n",
    "\n",
    "neo4j_url = config.get(\"neo4jUrl\", \"bolt://localhost:7687\")\n",
    "user = config.get(\"user\", \"neo4j\")\n",
    "pswd = config.get(\"pswd\", \"password\")\n",
    "neo4j_import_loc = config[\"neo4j_import_loc\"]\n",
    "\n",
    "graph = Graph(neo4j_url, auth=(user, pswd))"
   ]
  },
  {
   "cell_type": "markdown",
   "metadata": {},
   "source": [
    "## Get compound ID"
   ]
  },
  {
   "cell_type": "code",
   "execution_count": 47,
   "metadata": {},
   "outputs": [
    {
     "name": "stderr",
     "output_type": "stream",
     "text": [
      "100%|██████████| 6259/6259 [6:11:15<00:00,  3.56s/it]   \n"
     ]
    }
   ],
   "source": [
    "def update_synonym(name):\n",
    "    parsed_name = name.replace(\" \", \"%20\")\n",
    "    requests.get(\n",
    "            f\"http://127.0.0.1:81/updatePubchemSynonymsByName/?synonym_name={parsed_name}\"\n",
    "        )\n",
    "all_moa_nsc = []\n",
    "for moa in tqdm(all_moa):\n",
    "    chembl_id = moa.get(\"chem_id\")\n",
    "    chembl_name = moa.get(\"chem_name\")\n",
    "\n",
    "    if chembl_id is None and chembl_name is None:\n",
    "        continue\n",
    "\n",
    "    chembl_id = chembl_id.replace(\"CHEMBL\", \"\")\n",
    "    update_synonym(f\"CHEMBL{chembl_id}\")\n",
    "    update_synonym(f\"CHEMBL {chembl_id}\")\n",
    "    update_synonym(f\"CHEMBL-{chembl_id}\")\n",
    "    update_synonym(chembl_name)\n",
    "    clean_chembl_name = \" \".join(re.findall(r\"[\\p{L}\\d]{2,}\", chembl_name))\n",
    "    update_synonym(clean_chembl_name)\n",
    "\n",
    "    response = graph.run(\n",
    "        \"\"\"\n",
    "        CALL {\n",
    "            CALL db.index.fulltext.queryNodes('synonymsFullText', $lucense_query)\n",
    "            YIELD node, score\n",
    "            return node, score limit 10\n",
    "        }\n",
    "        MATCH (node)-[:IS_ATTRIBUTE_OF]->(c:Compound)\n",
    "        WITH c.pubChemCompId as compoundId, collect(node)[0] as node, count(*) as num\n",
    "        RETURN compoundId, node.name as syn_name, node.pubChemSynId as syn_id, num\n",
    "        \"\"\", lucense_query=f\"CHEMBL{chembl_id} OR (chembl AND {chembl_id}) OR ({clean_chembl_name})\"\n",
    "    ).data()\n",
    "        \n",
    "    if len(response) == 0:\n",
    "        continue\n",
    "    if len(response) == 1:\n",
    "        selected_response = response[0]\n",
    "        \n",
    "    else:\n",
    "        selected_response = max(response, key=lambda p: p['num'])\n",
    "    moa[\"syn_name\"] = response[0][\"syn_name\"]\n",
    "    moa[\"syn_id\"] = response[0][\"syn_id\"]\n",
    "    all_moa_nsc.append(moa)"
   ]
  },
  {
   "cell_type": "code",
   "execution_count": 48,
   "metadata": {},
   "outputs": [],
   "source": [
    "with open(path_join(\"results\", \"all_moa_with_synonym.json\"), \"w\") as f:\n",
    "    json.dump(all_moa, f)"
   ]
  },
  {
   "cell_type": "markdown",
   "metadata": {},
   "source": [
    "## Add NSC number"
   ]
  },
  {
   "cell_type": "code",
   "execution_count": 4,
   "metadata": {},
   "outputs": [],
   "source": [
    "with open(path_join(\"results\", \"all_moa_with_synonym.json\"), \"r\") as f:\n",
    "    all_moa = json.load(f)"
   ]
  },
  {
   "cell_type": "code",
   "execution_count": 36,
   "metadata": {},
   "outputs": [
    {
     "name": "stderr",
     "output_type": "stream",
     "text": [
      "100%|██████████| 6259/6259 [58:43<00:00,  1.78it/s]  \n"
     ]
    }
   ],
   "source": [
    "for moa in tqdm(all_moa):\n",
    "    if (syn_id:= moa.get(\"syn_id\")) is None:\n",
    "        continue\n",
    "    response = graph.run(\n",
    "        \"\"\"\n",
    "        MATCH (s:Synonym {pubChemSynId: $synId})\n",
    "        MATCH (s)-[:IS_ATTRIBUTE_OF]->(c:Compound)\n",
    "        MATCH (c)<-[:IS_ATTRIBUTE_OF]-(s2:Synonym)\n",
    "        WHERE s2.name CONTAINS \"nsc\"\n",
    "        WITH toInteger(apoc.text.regexGroups(s2.name, \"\\d+\")[0][0]) as num\n",
    "        WHERE NOT num IS NULL\n",
    "        RETURN DISTINCT num\n",
    "        \"\"\", synId = syn_id\n",
    "    ).data()\n",
    "    if len(response) == 0:\n",
    "        continue\n",
    "    if len(response) > 1:\n",
    "        moa[\"all_NSC\"] = [i[\"num\"] for i in response]\n",
    "        continue\n",
    "    moa[\"NSC\"] = response[0][\"num\"]"
   ]
  },
  {
   "cell_type": "code",
   "execution_count": 5,
   "metadata": {},
   "outputs": [],
   "source": [
    "with open(path_join(\"results\", \"all_moa_with_NSC.json\"), \"w\") as f:\n",
    "    json.dump(all_moa, f)"
   ]
  },
  {
   "cell_type": "code",
   "execution_count": 52,
   "metadata": {},
   "outputs": [
    {
     "name": "stdout",
     "output_type": "stream",
     "text": [
      "oxybate (sodium) \t:\t SODIUM OXYBATE \t:\t CHEMBL1200682\n",
      "perhexiline maleate, (-)- \t:\t PERHEXILINE MALEATE \t:\t CHEMBL1334033\n",
      "butoxide, piperonyl \t:\t PIPERONYL BUTOXIDE \t:\t CHEMBL1201131\n",
      "butoconazole, butoconazole nitrate \t:\t BUTOCONAZOLE NITRATE \t:\t CHEMBL1200398\n",
      "decamethonium  bromide \t:\t DECAMETHONIUM BROMIDE \t:\t CHEMBL1134\n",
      "deferoxamine, deferoxamine mesylate \t:\t DEFEROXAMINE MESYLATE \t:\t CHEMBL1234\n",
      "prednisolone phosphate sodium \t:\t PREDNISOLONE SODIUM PHOSPHATE \t:\t CHEMBL1201014\n",
      "hydrocortisone butyrate (hydrocortisone 17-butyrate) \t:\t HYDROCORTISONE BUTYRATE \t:\t CHEMBL1683\n",
      "3-chloro-alfa,alfa,alfa-trifluorotoluene \t:\t VELAGLUCERASE ALFA \t:\t CHEMBL1201865\n",
      "silver sulfadiazine \t:\t SULFADIAZINE, SILVER \t:\t CHEMBL1382627\n",
      "calcium trisodium pentetate \t:\t PENTETATE CALCIUM TRISODIUM \t:\t CHEMBL1200945\n",
      "sodium thiamylal \t:\t THIAMYLAL SODIUM \t:\t CHEMBL1201065\n",
      "sodium thiopental \t:\t THIOPENTAL SODIUM \t:\t CHEMBL738\n",
      "disodium ticarcillin \t:\t TICARCILLIN DISODIUM \t:\t CHEMBL1200855\n",
      "betamethasone valerate (betamethasone 17-valerate) \t:\t BETAMETHASONE VALERATE \t:\t CHEMBL1497\n",
      "cefoperazone, cefoperazone sodium, cefoperazone dihydrate, cefoperazone sodium salt \t:\t CEFOPERAZONE SODIUM \t:\t CHEMBL1200482\n",
      "mln 0905 \t:\t MLN-01 \t:\t CHEMBL2109496\n",
      "insulin, (arg-insulin) \t:\t INSULIN \t:\t CHEMBL1201631\n",
      "sodium sulfoxone \t:\t SULFOXONE SODIUM \t:\t CHEMBL1200580\n",
      "insulin, (arg-insulin) \t:\t INSULIN \t:\t CHEMBL1201631\n",
      "sodium colistimethate \t:\t COLISTIMETHATE SODIUM \t:\t CHEMBL1201441\n",
      "methixene (*hydrochloride*) \t:\t METHIXENE HYDROCHLORIDE \t:\t CHEMBL1200426\n",
      "conjugated estrogens \t:\t ESTROGENS, CONJUGATED \t:\t CHEMBL1201649\n",
      "disodium etidronate \t:\t ETIDRONATE DISODIUM \t:\t CHEMBL1201042\n",
      "methixene (*hydrochloride*) \t:\t METHIXENE HYDROCHLORIDE \t:\t CHEMBL1200426\n",
      "e2 \t:\t E2.3 \t:\t CHEMBL2109495\n",
      "perhexiline maleate, (-)- \t:\t PERHEXILINE MALEATE \t:\t CHEMBL1334033\n",
      "perhexiline maleate, (-)- \t:\t PERHEXILINE MALEATE \t:\t CHEMBL1334033\n",
      "sodium tolmetin \t:\t TOLMETIN SODIUM \t:\t CHEMBL1200613\n",
      "sodium valproate \t:\t VALPROATE SODIUM \t:\t CHEMBL433\n",
      "thyrotropin alfa \t:\t THYROTROPIN \t:\t CHEMBL1201532\n",
      "caffeine citrated \t:\t CAFFEINE, CITRATED \t:\t CHEMBL1200569\n",
      "sar 125844; sar-125844 \t:\t SAR-125844 \t:\t CHEMBL3545325\n",
      "nsc 80036 \t:\t SC-80036 \t:\t CHEMBL3544930\n",
      "ac-7256 \t:\t RG-7256 \t:\t CHEMBL3545080\n",
      "ask \t:\t ASK-8007 \t:\t CHEMBL2109530\n",
      "nsc-249320 \t:\t GSK-249320 \t:\t CHEMBL2109573\n",
      "3-chloro-alfa,alfa,alfa-trifluorotoluene \t:\t TADEKINIG ALFA \t:\t CHEMBL2108054\n",
      "hsdb 7686 \t:\t RG-7686 \t:\t CHEMBL2109429\n",
      "amg \t:\t AMG-108 \t:\t CHEMBL2109458\n",
      "102-ep2269610a2 \t:\t PG-102 \t:\t CHEMBL2109475\n",
      "nsc-708980 \t:\t SCH-708980 \t:\t CHEMBL2109460\n",
      "imd \t:\t IMD-2560 \t:\t CHEMBL3545147\n",
      "rxdx 105 \t:\t RXDX-103 \t:\t CHEMBL3545090\n",
      "g1t28 \t:\t G1T28-1 \t:\t CHEMBL3544940\n",
      "g1t28 \t:\t G1T28-1 \t:\t CHEMBL3544940\n",
      "methoxy polyethylene glycol \t:\t METHOXY POLYETHYLENE GLYCOL-EPOETIN BETA \t:\t CHEMBL3707314\n",
      "3-chloro-alfa,alfa,alfa-trifluorotoluene \t:\t ANDEXANET ALFA \t:\t CHEMBL3301583\n",
      "3-chloro-alfa,alfa,alfa-trifluorotoluene \t:\t ANDEXANET ALFA \t:\t CHEMBL3301583\n",
      "sunitinib malate (sunitinib l-malate) \t:\t SUNITINIB MALATE \t:\t CHEMBL1567\n",
      "nktr 118 \t:\t NKTR-171 \t:\t CHEMBL3545209\n",
      "3-chloro-alfa,alfa,alfa-trifluorotoluene \t:\t ANDEXANET ALFA \t:\t CHEMBL3301583\n",
      "tnx \t:\t TNX-650 \t:\t CHEMBL2109466\n",
      "amg \t:\t AMG-167 \t:\t CHEMBL2109571\n",
      "amg \t:\t AMG-780 \t:\t CHEMBL2109586\n",
      "amg \t:\t AMG-820 \t:\t CHEMBL2109322\n",
      "tcn \t:\t TCN-032 \t:\t CHEMBL2109619\n",
      "amg \t:\t AMG-191 \t:\t CHEMBL2109325\n",
      "3-chloro-alfa,alfa,alfa-trifluorotoluene \t:\t VESTRONIDASE ALFA \t:\t CHEMBL3707382\n",
      "ahn \t:\t AHN-12 \t:\t CHEMBL2109480\n",
      "amg \t:\t AMG-780 \t:\t CHEMBL2109586\n",
      "amg \t:\t AMG-811 \t:\t CHEMBL2109450\n",
      "nsc-237648 \t:\t S-237648 \t:\t CHEMBL3545038\n",
      "sunitinib malate (sunitinib l-malate) \t:\t SUNITINIB MALATE \t:\t CHEMBL1567\n",
      "at 9283; at-9283; at-9283 free base \t:\t AT-9283 \t:\t CHEMBL495727\n",
      "at 9283; at-9283; at-9283 free base \t:\t AT-9283 \t:\t CHEMBL495727\n",
      "at 9283; at-9283; at-9283 free base \t:\t AT-9283 \t:\t CHEMBL495727\n",
      "at 9283; at-9283; at-9283 free base \t:\t AT-9283 \t:\t CHEMBL495727\n",
      "at 9283; at-9283; at-9283 free base \t:\t AT-9283 \t:\t CHEMBL495727\n",
      "at 9283; at-9283; at-9283 free base \t:\t AT-9283 \t:\t CHEMBL495727\n",
      "amg \t:\t AMG-557 \t:\t CHEMBL2109249\n",
      "amg \t:\t AMG-157 \t:\t CHEMBL2109595\n",
      "imd \t:\t IMD-1041 \t:\t CHEMBL3545168\n",
      "3-chloro-alfa,alfa,alfa-trifluorotoluene \t:\t ALGLUCOSIDASE ALFA \t:\t CHEMBL1201824\n",
      "amg \t:\t AMG-888 \t:\t CHEMBL2109396\n",
      "pg490;pg 490;pg-490 \t:\t PG-760564 \t:\t CHEMBL3545398\n",
      "d0501 \t:\t XEN-D0501 \t:\t CHEMBL3707293\n",
      "at 877 \t:\t K-877 \t:\t CHEMBL3545412\n",
      "ph bc \t:\t MU-BC-1 \t:\t CHEMBL2109529\n",
      "bax 439 \t:\t AD-439 \t:\t CHEMBL2109445\n",
      "antioxidant kb \t:\t KB-004 \t:\t CHEMBL2109398\n",
      "nsc-113945 \t:\t SAR-113945 \t:\t CHEMBL3544945\n",
      "mra cn \t:\t MRA 003 US \t:\t CHEMBL2109615\n",
      "ac-8968 \t:\t MEDI-8968 \t:\t CHEMBL2109607\n",
      "mik \t:\t MIK-BETA-1 \t:\t CHEMBL2109326\n",
      "sunitinib malate (sunitinib l-malate) \t:\t SUNITINIB MALATE \t:\t CHEMBL1567\n",
      "82-82-6 \t:\t X-82 \t:\t CHEMBL3545401\n",
      "82-82-6 \t:\t X-82 \t:\t CHEMBL3545401\n",
      "3-chloro-alfa,alfa,alfa-trifluorotoluene \t:\t CORIFOLLITROPIN ALFA \t:\t CHEMBL2108185\n",
      "3-chloro-alfa,alfa,alfa-trifluorotoluene \t:\t ELOSULFASE ALFA \t:\t CHEMBL2108676\n",
      "3-chloro-alfa,alfa,alfa-trifluorotoluene \t:\t ELOSULFASE ALFA \t:\t CHEMBL2108676\n",
      "mcs 1572 \t:\t MCS-110 \t:\t CHEMBL2109512\n",
      "asn-002; asn 002; asn002 \t:\t CER-002 \t:\t CHEMBL3544958\n",
      "antioxidant 565; irganox 565 \t:\t MEDI-565 \t:\t CHEMBL2109372\n",
      "amg \t:\t AMG-729 \t:\t CHEMBL2109338\n",
      "antioxidant 565; irganox 565 \t:\t MEDI-565 \t:\t CHEMBL2109372\n",
      "rav 7n \t:\t RAV-12 \t:\t CHEMBL2109563\n",
      "lmb \t:\t LMB-7 \t:\t CHEMBL2109307\n",
      "lmb \t:\t LMB-9 \t:\t CHEMBL2109503\n",
      "lmb \t:\t LMB-1 \t:\t CHEMBL2109306\n",
      "tnt \t:\t TNT-1B \t:\t CHEMBL2109644\n",
      "antioxidant kb \t:\t KB-001 \t:\t CHEMBL2109536\n",
      "trc \t:\t TRC-093 \t:\t CHEMBL2109374\n",
      "albumin tannate \t:\t VASOPRESSIN TANNATE \t:\t CHEMBL1201528\n",
      "sunitinib malate (sunitinib l-malate) \t:\t SUNITINIB MALATE \t:\t CHEMBL1567\n",
      "fibrinogen from human plasma \t:\t FIBRINOGEN, HUMAN \t:\t CHEMBL2109072\n",
      "3-chloro-alfa,alfa,alfa-trifluorotoluene \t:\t ASFOTASE ALFA \t:\t CHEMBL2108311\n",
      "3-chloro-alfa,alfa,alfa-trifluorotoluene \t:\t SEBELIPASE ALFA \t:\t CHEMBL3039537\n",
      "3-chloro-alfa,alfa,alfa-trifluorotoluene \t:\t OLIPUDASE ALFA \t:\t CHEMBL3707358\n",
      "3-chloro-alfa,alfa,alfa-trifluorotoluene \t:\t SEBELIPASE ALFA \t:\t CHEMBL3039537\n",
      "insulin, (arg-insulin) \t:\t INSULIN PEGLISPRO \t:\t CHEMBL2108569\n",
      "lgx 818 \t:\t LGX-806 \t:\t CHEMBL3545263\n",
      "ly 2606368;ly-2606368;prexasertib \t:\t LY-2606368 \t:\t CHEMBL3545377\n",
      "lgx 818 \t:\t LGX-806 \t:\t CHEMBL3545263\n",
      "albumin tannate \t:\t VASOPRESSIN TANNATE \t:\t CHEMBL1201528\n",
      "bax 2201 \t:\t MK-2201 \t:\t CHEMBL3545000\n",
      "bhq \t:\t BHQ-880 \t:\t CHEMBL2109381\n",
      "12n-121 \t:\t MM-121 \t:\t CHEMBL2109402\n",
      "sunitinib malate (sunitinib l-malate) \t:\t SUNITINIB MALATE \t:\t CHEMBL1567\n",
      "albumin tannate \t:\t VASOPRESSIN TANNATE \t:\t CHEMBL1201528\n",
      "ame hcl \t:\t AME-133V \t:\t CHEMBL2109346\n",
      "lmb \t:\t LMB-2 \t:\t CHEMBL2109367\n",
      "sunitinib malate (sunitinib l-malate) \t:\t SUNITINIB MALATE \t:\t CHEMBL1567\n",
      "mofetil mycophenolate \t:\t MYCOPHENOLATE MOFETIL \t:\t CHEMBL1456\n",
      "3-chloro-alfa,alfa,alfa-trifluorotoluene \t:\t CERLIPONASE ALFA \t:\t CHEMBL3544921\n",
      "rauwolfia serpentina root \t:\t RAUWOLFIA SERPENTINA \t:\t CHEMBL3559672\n"
     ]
    }
   ],
   "source": [
    "def clean_name(name):\n",
    "    clean_name = name.lower()\n",
    "    chars_to_remove = [\"(+/-)-\",\"(+-)-\", \"(+)-\", \"(-)-\", \"(\", \")\", \"+ \"]\n",
    "    for char in chars_to_remove:\n",
    "        clean_name = clean_name.replace(char, \"\")\n",
    "\n",
    "    chars_to_space = [\"-\"]\n",
    "    for char in chars_to_space:\n",
    "        clean_name = clean_name.replace(char, \" \")\n",
    "    return clean_name\n",
    "for moa in all_moa:\n",
    "    if not (moa.get(\"NSC\") or moa.get(\"all_NSC\")):\n",
    "        continue\n",
    "    \n",
    "    raw_syn_name = moa.get(\"syn_name\", \"\")\n",
    "    raw_chem_name = moa.get(\"chem_name\", \"\")\n",
    "    raw_chem_id = moa.get(\"chem_id\", \"\")\n",
    "    \n",
    "    syn_name = clean_name(raw_syn_name)\n",
    "    chem_name = clean_name(raw_chem_name)\n",
    "    chem_id = clean_name(raw_chem_id)\n",
    "\n",
    "    if (syn_name != chem_name) and (syn_name != chem_id):\n",
    "        print(f\"{raw_syn_name} \\t:\\t {raw_chem_name} \\t:\\t {raw_chem_id}\")"
   ]
  },
  {
   "cell_type": "markdown",
   "metadata": {},
   "source": [
    "## Remove filtered chemicals"
   ]
  },
  {
   "cell_type": "code",
   "execution_count": 11,
   "metadata": {},
   "outputs": [],
   "source": [
    "with open(\"incorrect_chembl_nsc_combi\") as f:\n",
    "    all_incorrect_chemicals = f.readlines()\n",
    "all_incorrect_chembl_ids = []\n",
    "for i in all_incorrect_chemicals:\n",
    "    incorrect_chembl_ids = i.split(\" \\t:\\t \")[2].replace(\"\\n\", \"\")\n",
    "    all_incorrect_chembl_ids.append(incorrect_chembl_ids)"
   ]
  },
  {
   "cell_type": "code",
   "execution_count": 14,
   "metadata": {},
   "outputs": [
    {
     "name": "stdout",
     "output_type": "stream",
     "text": [
      "5141\n",
      "6259\n"
     ]
    }
   ],
   "source": [
    "filtered_moa = []\n",
    "for moa in all_moa:\n",
    "    chem_id = moa.get(\"chem_id\")\n",
    "    if chem_id is None:\n",
    "        continue\n",
    "    if chem_id in     all_incorrect_chembl_ids:\n",
    "        continue\n",
    "    filtered_moa.append(moa)\n",
    "\n",
    "print(len(filtered_moa))\n",
    "print(len(all_moa))"
   ]
  },
  {
   "cell_type": "code",
   "execution_count": 15,
   "metadata": {},
   "outputs": [],
   "source": [
    "with open(path_join(\"results\", \"all_moa_with_NSC_filtered.json\"), \"w\") as f:\n",
    "    json.dump(filtered_moa, f)"
   ]
  }
 ],
 "metadata": {
  "kernelspec": {
   "display_name": "Python 3.9.12 ('py3_9')",
   "language": "python",
   "name": "python3"
  },
  "language_info": {
   "codemirror_mode": {
    "name": "ipython",
    "version": 3
   },
   "file_extension": ".py",
   "mimetype": "text/x-python",
   "name": "python",
   "nbconvert_exporter": "python",
   "pygments_lexer": "ipython3",
   "version": "3.9.12"
  },
  "orig_nbformat": 4,
  "vscode": {
   "interpreter": {
    "hash": "8738a2aa024c54d317ff0f957b7d1d1075af056ba51a00cd907e74602a3374b7"
   }
  }
 },
 "nbformat": 4,
 "nbformat_minor": 2
}
