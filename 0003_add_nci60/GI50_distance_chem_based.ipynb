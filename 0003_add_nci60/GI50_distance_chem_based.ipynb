{
 "cells": [
  {
   "cell_type": "markdown",
   "metadata": {},
   "source": [
    "# Recommendation algorithm for GI50\n",
    "This NCI60 data gives an insight to effect of a chemical on cancer.\n",
    "Cancer is not one disease but a collection of every possible cell in your body growing uncontrolled.\n",
    "For this reason NCI60 has multiple different cell lines (column CELL_NAME).\n",
    "\n",
    "I have here the GI50 data of the NCI60 project\n",
    "GI50: concentration to stop growth with 50%. column \"AVERAGE\" is the average concentration needed.\n",
    "\n",
    "This data is loaded into the graph database with [this schema](https://medium.com/p/8e9aafbb5788)."
   ]
  },
  {
   "cell_type": "markdown",
   "metadata": {},
   "source": [
    "![schema](https://miro.medium.com/max/1400/0*OBTXGfA2Stl-MIsZ)"
   ]
  },
  {
   "cell_type": "code",
   "execution_count": 1,
   "metadata": {},
   "outputs": [],
   "source": [
    "import pandas as pd\n",
    "from os.path import join as path_join\n",
    "import numpy as np\n",
    "import json"
   ]
  },
  {
   "cell_type": "code",
   "execution_count": 2,
   "metadata": {},
   "outputs": [],
   "source": [
    "# Set up connection with the graph database\n",
    "import json\n",
    "\n",
    "from py2neo import Graph\n",
    "\n",
    "with open(\"config.json\") as f:\n",
    "    config = json.load(f)\n",
    "\n",
    "neo4j_url = config.get(\"neo4jUrl\", \"bolt://localhost:7687\")\n",
    "user = config.get(\"user\", \"neo4j\")\n",
    "pswd = config.get(\"pswd\", \"password\")\n",
    "graph = Graph(neo4j_url, auth=(user, pswd))"
   ]
  },
  {
   "cell_type": "markdown",
   "metadata": {},
   "source": [
    "Using the csv itself as reverence.\n",
    "It is not perfect because some cell lines of chemicals could not be loaded."
   ]
  },
  {
   "cell_type": "code",
   "execution_count": 3,
   "metadata": {},
   "outputs": [
    {
     "name": "stdout",
     "output_type": "stream",
     "text": [
      "(4585048, 14)\n"
     ]
    },
    {
     "data": {
      "text/html": [
       "<div>\n",
       "<style scoped>\n",
       "    .dataframe tbody tr th:only-of-type {\n",
       "        vertical-align: middle;\n",
       "    }\n",
       "\n",
       "    .dataframe tbody tr th {\n",
       "        vertical-align: top;\n",
       "    }\n",
       "\n",
       "    .dataframe thead th {\n",
       "        text-align: right;\n",
       "    }\n",
       "</style>\n",
       "<table border=\"1\" class=\"dataframe\">\n",
       "  <thead>\n",
       "    <tr style=\"text-align: right;\">\n",
       "      <th></th>\n",
       "      <th>RELEASE_DATE</th>\n",
       "      <th>EXPID</th>\n",
       "      <th>PREFIX</th>\n",
       "      <th>NSC</th>\n",
       "      <th>CONCENTRATION_UNIT</th>\n",
       "      <th>LOG_HI_CONCENTRATION</th>\n",
       "      <th>PANEL_NUMBER</th>\n",
       "      <th>CELL_NUMBER</th>\n",
       "      <th>PANEL_NAME</th>\n",
       "      <th>CELL_NAME</th>\n",
       "      <th>PANEL_CODE</th>\n",
       "      <th>COUNT</th>\n",
       "      <th>AVERAGE</th>\n",
       "      <th>STDDEV</th>\n",
       "    </tr>\n",
       "  </thead>\n",
       "  <tbody>\n",
       "    <tr>\n",
       "      <th>0</th>\n",
       "      <td>20210223</td>\n",
       "      <td>0001MD02</td>\n",
       "      <td>S</td>\n",
       "      <td>123127</td>\n",
       "      <td>M</td>\n",
       "      <td>-4.6021</td>\n",
       "      <td>1</td>\n",
       "      <td>1</td>\n",
       "      <td>Non-Small Cell Lung Cancer</td>\n",
       "      <td>NCI-H23</td>\n",
       "      <td>LNS</td>\n",
       "      <td>1</td>\n",
       "      <td>-7.1391</td>\n",
       "      <td>0.0</td>\n",
       "    </tr>\n",
       "    <tr>\n",
       "      <th>1</th>\n",
       "      <td>20210223</td>\n",
       "      <td>0001MD02</td>\n",
       "      <td>S</td>\n",
       "      <td>123127</td>\n",
       "      <td>M</td>\n",
       "      <td>-4.6021</td>\n",
       "      <td>10</td>\n",
       "      <td>14</td>\n",
       "      <td>Melanoma</td>\n",
       "      <td>M14</td>\n",
       "      <td>MEL</td>\n",
       "      <td>1</td>\n",
       "      <td>-7.0520</td>\n",
       "      <td>0.0</td>\n",
       "    </tr>\n",
       "    <tr>\n",
       "      <th>2</th>\n",
       "      <td>20210223</td>\n",
       "      <td>0001MD02</td>\n",
       "      <td>S</td>\n",
       "      <td>123127</td>\n",
       "      <td>M</td>\n",
       "      <td>-4.6021</td>\n",
       "      <td>12</td>\n",
       "      <td>5</td>\n",
       "      <td>CNS Cancer</td>\n",
       "      <td>SNB-75</td>\n",
       "      <td>CNS</td>\n",
       "      <td>1</td>\n",
       "      <td>-7.1380</td>\n",
       "      <td>0.0</td>\n",
       "    </tr>\n",
       "    <tr>\n",
       "      <th>3</th>\n",
       "      <td>20210223</td>\n",
       "      <td>0001MD02</td>\n",
       "      <td>S</td>\n",
       "      <td>123127</td>\n",
       "      <td>M</td>\n",
       "      <td>-4.6021</td>\n",
       "      <td>4</td>\n",
       "      <td>2</td>\n",
       "      <td>Colon Cancer</td>\n",
       "      <td>HCC-2998</td>\n",
       "      <td>COL</td>\n",
       "      <td>1</td>\n",
       "      <td>-6.9426</td>\n",
       "      <td>0.0</td>\n",
       "    </tr>\n",
       "    <tr>\n",
       "      <th>4</th>\n",
       "      <td>20210223</td>\n",
       "      <td>0001MD02</td>\n",
       "      <td>S</td>\n",
       "      <td>123127</td>\n",
       "      <td>M</td>\n",
       "      <td>-4.6021</td>\n",
       "      <td>5</td>\n",
       "      <td>5</td>\n",
       "      <td>Breast Cancer</td>\n",
       "      <td>MDA-MB-231/ATCC</td>\n",
       "      <td>BRE</td>\n",
       "      <td>1</td>\n",
       "      <td>-6.4485</td>\n",
       "      <td>0.0</td>\n",
       "    </tr>\n",
       "  </tbody>\n",
       "</table>\n",
       "</div>"
      ],
      "text/plain": [
       "   RELEASE_DATE     EXPID PREFIX     NSC CONCENTRATION_UNIT  \\\n",
       "0      20210223  0001MD02      S  123127                  M   \n",
       "1      20210223  0001MD02      S  123127                  M   \n",
       "2      20210223  0001MD02      S  123127                  M   \n",
       "3      20210223  0001MD02      S  123127                  M   \n",
       "4      20210223  0001MD02      S  123127                  M   \n",
       "\n",
       "   LOG_HI_CONCENTRATION  PANEL_NUMBER  CELL_NUMBER  \\\n",
       "0               -4.6021             1            1   \n",
       "1               -4.6021            10           14   \n",
       "2               -4.6021            12            5   \n",
       "3               -4.6021             4            2   \n",
       "4               -4.6021             5            5   \n",
       "\n",
       "                   PANEL_NAME        CELL_NAME PANEL_CODE  COUNT  AVERAGE  \\\n",
       "0  Non-Small Cell Lung Cancer          NCI-H23        LNS      1  -7.1391   \n",
       "1                    Melanoma              M14        MEL      1  -7.0520   \n",
       "2                  CNS Cancer           SNB-75        CNS      1  -7.1380   \n",
       "3                Colon Cancer         HCC-2998        COL      1  -6.9426   \n",
       "4               Breast Cancer  MDA-MB-231/ATCC        BRE      1  -6.4485   \n",
       "\n",
       "   STDDEV  \n",
       "0     0.0  \n",
       "1     0.0  \n",
       "2     0.0  \n",
       "3     0.0  \n",
       "4     0.0  "
      ]
     },
     "execution_count": 3,
     "metadata": {},
     "output_type": "execute_result"
    }
   ],
   "source": [
    "gi50 = pd.read_csv(path_join(\"data\", \"GI50.csv\"))\n",
    "print(gi50.shape)\n",
    "gi50.head()"
   ]
  },
  {
   "cell_type": "code",
   "execution_count": 4,
   "metadata": {},
   "outputs": [],
   "source": [
    "# Load all cell lines that are in the graph database\n",
    "with open(\"cellline_nci60_to_chembl.json\", \"r\") as fp:\n",
    "    cell_lines_json = json.load(fp)\n",
    "\n",
    "cell_lines = [i for i in cell_lines_json if cell_lines_json[i]]\n",
    "\n",
    "filtered_gi50 = gi50.loc[gi50[\"CELL_NAME\"].isin(cell_lines)]"
   ]
  },
  {
   "cell_type": "markdown",
   "metadata": {},
   "source": [
    "Creating a pivot table. Where every value is the average GI50 value of the combination cell line (row) and chemical (column). This makes the data easier to work with."
   ]
  },
  {
   "cell_type": "code",
   "execution_count": 5,
   "metadata": {},
   "outputs": [
    {
     "data": {
      "text/html": [
       "<div>\n",
       "<style scoped>\n",
       "    .dataframe tbody tr th:only-of-type {\n",
       "        vertical-align: middle;\n",
       "    }\n",
       "\n",
       "    .dataframe tbody tr th {\n",
       "        vertical-align: top;\n",
       "    }\n",
       "\n",
       "    .dataframe thead th {\n",
       "        text-align: right;\n",
       "    }\n",
       "</style>\n",
       "<table border=\"1\" class=\"dataframe\">\n",
       "  <thead>\n",
       "    <tr style=\"text-align: right;\">\n",
       "      <th>NSC</th>\n",
       "      <th>1</th>\n",
       "      <th>17</th>\n",
       "      <th>26</th>\n",
       "      <th>89</th>\n",
       "      <th>112</th>\n",
       "      <th>171</th>\n",
       "      <th>185</th>\n",
       "      <th>186</th>\n",
       "      <th>196</th>\n",
       "      <th>197</th>\n",
       "      <th>...</th>\n",
       "      <th>836824</th>\n",
       "      <th>836941</th>\n",
       "      <th>836942</th>\n",
       "      <th>837081</th>\n",
       "      <th>837082</th>\n",
       "      <th>837396</th>\n",
       "      <th>837397</th>\n",
       "      <th>837398</th>\n",
       "      <th>837892</th>\n",
       "      <th>837893</th>\n",
       "    </tr>\n",
       "    <tr>\n",
       "      <th>CELL_NAME</th>\n",
       "      <th></th>\n",
       "      <th></th>\n",
       "      <th></th>\n",
       "      <th></th>\n",
       "      <th></th>\n",
       "      <th></th>\n",
       "      <th></th>\n",
       "      <th></th>\n",
       "      <th></th>\n",
       "      <th></th>\n",
       "      <th></th>\n",
       "      <th></th>\n",
       "      <th></th>\n",
       "      <th></th>\n",
       "      <th></th>\n",
       "      <th></th>\n",
       "      <th></th>\n",
       "      <th></th>\n",
       "      <th></th>\n",
       "      <th></th>\n",
       "      <th></th>\n",
       "    </tr>\n",
       "  </thead>\n",
       "  <tbody>\n",
       "    <tr>\n",
       "      <th>786-0</th>\n",
       "      <td>-4.716867</td>\n",
       "      <td>-5.557233</td>\n",
       "      <td>-5.4265</td>\n",
       "      <td>-4.700050</td>\n",
       "      <td>-6.4911</td>\n",
       "      <td>-4.0</td>\n",
       "      <td>-7.4287</td>\n",
       "      <td>-4.609967</td>\n",
       "      <td>-5.1022</td>\n",
       "      <td>-5.5461</td>\n",
       "      <td>...</td>\n",
       "      <td>-5.4324</td>\n",
       "      <td>-5.3468</td>\n",
       "      <td>-4.0</td>\n",
       "      <td>-4.8286</td>\n",
       "      <td>-5.1042</td>\n",
       "      <td>-6.69690</td>\n",
       "      <td>-5.5047</td>\n",
       "      <td>-6.56690</td>\n",
       "      <td>-4.301</td>\n",
       "      <td>-5.6072</td>\n",
       "    </tr>\n",
       "    <tr>\n",
       "      <th>A-172/H.Fine</th>\n",
       "      <td>NaN</td>\n",
       "      <td>NaN</td>\n",
       "      <td>NaN</td>\n",
       "      <td>NaN</td>\n",
       "      <td>NaN</td>\n",
       "      <td>NaN</td>\n",
       "      <td>NaN</td>\n",
       "      <td>-4.230500</td>\n",
       "      <td>NaN</td>\n",
       "      <td>NaN</td>\n",
       "      <td>...</td>\n",
       "      <td>NaN</td>\n",
       "      <td>NaN</td>\n",
       "      <td>NaN</td>\n",
       "      <td>NaN</td>\n",
       "      <td>NaN</td>\n",
       "      <td>NaN</td>\n",
       "      <td>NaN</td>\n",
       "      <td>NaN</td>\n",
       "      <td>NaN</td>\n",
       "      <td>NaN</td>\n",
       "    </tr>\n",
       "    <tr>\n",
       "      <th>A-204</th>\n",
       "      <td>NaN</td>\n",
       "      <td>NaN</td>\n",
       "      <td>NaN</td>\n",
       "      <td>NaN</td>\n",
       "      <td>NaN</td>\n",
       "      <td>NaN</td>\n",
       "      <td>NaN</td>\n",
       "      <td>NaN</td>\n",
       "      <td>NaN</td>\n",
       "      <td>NaN</td>\n",
       "      <td>...</td>\n",
       "      <td>NaN</td>\n",
       "      <td>NaN</td>\n",
       "      <td>NaN</td>\n",
       "      <td>NaN</td>\n",
       "      <td>NaN</td>\n",
       "      <td>NaN</td>\n",
       "      <td>NaN</td>\n",
       "      <td>NaN</td>\n",
       "      <td>NaN</td>\n",
       "      <td>NaN</td>\n",
       "    </tr>\n",
       "    <tr>\n",
       "      <th>A431</th>\n",
       "      <td>NaN</td>\n",
       "      <td>NaN</td>\n",
       "      <td>NaN</td>\n",
       "      <td>NaN</td>\n",
       "      <td>NaN</td>\n",
       "      <td>NaN</td>\n",
       "      <td>NaN</td>\n",
       "      <td>NaN</td>\n",
       "      <td>NaN</td>\n",
       "      <td>NaN</td>\n",
       "      <td>...</td>\n",
       "      <td>NaN</td>\n",
       "      <td>NaN</td>\n",
       "      <td>NaN</td>\n",
       "      <td>NaN</td>\n",
       "      <td>NaN</td>\n",
       "      <td>NaN</td>\n",
       "      <td>NaN</td>\n",
       "      <td>NaN</td>\n",
       "      <td>NaN</td>\n",
       "      <td>NaN</td>\n",
       "    </tr>\n",
       "    <tr>\n",
       "      <th>A498</th>\n",
       "      <td>-4.363500</td>\n",
       "      <td>-4.664067</td>\n",
       "      <td>NaN</td>\n",
       "      <td>-4.144533</td>\n",
       "      <td>-6.1375</td>\n",
       "      <td>-4.0</td>\n",
       "      <td>NaN</td>\n",
       "      <td>-5.458580</td>\n",
       "      <td>-4.9329</td>\n",
       "      <td>-4.8278</td>\n",
       "      <td>...</td>\n",
       "      <td>-5.3284</td>\n",
       "      <td>-4.0000</td>\n",
       "      <td>-4.0</td>\n",
       "      <td>-4.8123</td>\n",
       "      <td>-4.8738</td>\n",
       "      <td>-5.75485</td>\n",
       "      <td>-5.4407</td>\n",
       "      <td>-6.79295</td>\n",
       "      <td>-4.301</td>\n",
       "      <td>-5.6273</td>\n",
       "    </tr>\n",
       "  </tbody>\n",
       "</table>\n",
       "<p>5 rows × 56685 columns</p>\n",
       "</div>"
      ],
      "text/plain": [
       "NSC             1         17      26        89      112     171     185     \\\n",
       "CELL_NAME                                                                    \n",
       "786-0        -4.716867 -5.557233 -5.4265 -4.700050 -6.4911    -4.0 -7.4287   \n",
       "A-172/H.Fine       NaN       NaN     NaN       NaN     NaN     NaN     NaN   \n",
       "A-204              NaN       NaN     NaN       NaN     NaN     NaN     NaN   \n",
       "A431               NaN       NaN     NaN       NaN     NaN     NaN     NaN   \n",
       "A498         -4.363500 -4.664067     NaN -4.144533 -6.1375    -4.0     NaN   \n",
       "\n",
       "NSC             186     196     197     ...  836824  836941  836942  837081  \\\n",
       "CELL_NAME                               ...                                   \n",
       "786-0        -4.609967 -5.1022 -5.5461  ... -5.4324 -5.3468    -4.0 -4.8286   \n",
       "A-172/H.Fine -4.230500     NaN     NaN  ...     NaN     NaN     NaN     NaN   \n",
       "A-204              NaN     NaN     NaN  ...     NaN     NaN     NaN     NaN   \n",
       "A431               NaN     NaN     NaN  ...     NaN     NaN     NaN     NaN   \n",
       "A498         -5.458580 -4.9329 -4.8278  ... -5.3284 -4.0000    -4.0 -4.8123   \n",
       "\n",
       "NSC           837082   837396  837397   837398  837892  837893  \n",
       "CELL_NAME                                                       \n",
       "786-0        -5.1042 -6.69690 -5.5047 -6.56690  -4.301 -5.6072  \n",
       "A-172/H.Fine     NaN      NaN     NaN      NaN     NaN     NaN  \n",
       "A-204            NaN      NaN     NaN      NaN     NaN     NaN  \n",
       "A431             NaN      NaN     NaN      NaN     NaN     NaN  \n",
       "A498         -4.8738 -5.75485 -5.4407 -6.79295  -4.301 -5.6273  \n",
       "\n",
       "[5 rows x 56685 columns]"
      ]
     },
     "execution_count": 5,
     "metadata": {},
     "output_type": "execute_result"
    }
   ],
   "source": [
    "correlation = pd.pivot_table(filtered_gi50, values='AVERAGE', index=['CELL_NAME'],\n",
    "                    columns=['NSC'], aggfunc=np.mean)\n",
    "correlation.head()"
   ]
  },
  {
   "cell_type": "markdown",
   "metadata": {},
   "source": [
    "# Distance between 2 chemicals\n",
    "The difference in how 2 chemicals react to the same cell lines gives us an idea how similar those 2 chemicals are. If we take the average of these differences a distance between the two chemicals. Where 0 means the chemicals are the same, and infinite means they could not be more different.\n",
    "Below we use pandas to get the difference between NSC 19893 and NSC 713724."
   ]
  },
  {
   "cell_type": "code",
   "execution_count": 6,
   "metadata": {},
   "outputs": [
    {
     "name": "stdout",
     "output_type": "stream",
     "text": [
      "Avg diff 0.5365136610125857, num cell lines used 59\n"
     ]
    }
   ],
   "source": [
    "all_diffs_pd = np.abs(correlation[19893] - correlation[713724])\n",
    "print(f\"Avg diff {all_diffs_pd.mean()}, num cell lines used {sum(all_diffs_pd.notna())}\")"
   ]
  },
  {
   "cell_type": "markdown",
   "metadata": {},
   "source": [
    "We can do the same in a graph database. However the we have a few more steps. First we need pubChemSynId of the NSC numbers. We can just looks these up.\n",
    "Now we need to find all condition that measure GI50, use NSC 19893 (176dde90cc9dd83eed129de11b203b03), and find all cell lines used in those conditions.\n",
    "Per cell line we take the average GI50 of all conditions.\n",
    "\n",
    "After that find out if these cell lines have a condition measuring GI50 and using NSC 713724 (1d75798754df81c782e805287ff7ef83). We take the average per cell line again.\n",
    "\n",
    "These 2 steps create the same as the pivoted array and selecting the 2 columns.\n",
    "\n",
    "Lastly we substrate the two values from each other and average those abs difference to get our distance metric.\n",
    "\n",
    "The value does differ slightly compared to the pandas method because of a small difference between the what is loaded into graph database and what is in the CSV"
   ]
  },
  {
   "cell_type": "code",
   "execution_count": 7,
   "metadata": {},
   "outputs": [
    {
     "name": "stdout",
     "output_type": "stream",
     "text": [
      "Avg diff 0.5365163605299944, num cell lines used 59\n"
     ]
    }
   ],
   "source": [
    "response = graph.run(\n",
    "    \"\"\"\n",
    "    MATCH (org_chem:Synonym {pubChemSynId: \"176dde90cc9dd83eed129de11b203b03\"})\n",
    "    MATCH (gi50:Measurement {name: \"GI50\"})\n",
    "\n",
    "    MATCH (cell:CellLine)<-[:USES]-(c:Condition)-[:USES]->(org_chem)\n",
    "    MATCH (c)-[m:MEASURES]->(gi50)\n",
    "    WITH DISTINCT cell, avg(toFloat(m.value)) as values1, gi50\n",
    "\n",
    "    CALL {\n",
    "        WITH cell, gi50, values1\n",
    "        MATCH (chem:Synonym)\n",
    "        WHERE chem.pubChemSynId IN [\"1d75798754df81c782e805287ff7ef83\"]\n",
    "        MATCH (cell)<-[:USES]-(c:Condition)-[:USES]->(chem)\n",
    "        MATCH (c)-[m2:MEASURES]->(gi50)\n",
    "        RETURN DISTINCT cell as cell2, abs(avg(toFloat(m2.value)) - values1) as distance,  chem\n",
    "    }\n",
    "\n",
    "    RETURN DISTINCT chem.name, avg(distance) as dist, count(distance) as num_cells\n",
    "    \"\"\"\n",
    ").data()\n",
    "\n",
    "all_diffs_neo = {}\n",
    "r = response[0]\n",
    "print(f\"Avg diff {r['dist']}, num cell lines used {r['num_cells']}\")"
   ]
  },
  {
   "cell_type": "markdown",
   "metadata": {},
   "source": [
    "The difference between the 2 approaches is very small. I will ignore it for this research but did not want to hide it."
   ]
  },
  {
   "cell_type": "code",
   "execution_count": 8,
   "metadata": {},
   "outputs": [
    {
     "data": {
      "text/plain": [
       "-2.6995174087218743e-06"
      ]
     },
     "execution_count": 8,
     "metadata": {},
     "output_type": "execute_result"
    }
   ],
   "source": [
    "all_diffs_pd.mean() - r['dist']"
   ]
  },
  {
   "cell_type": "markdown",
   "metadata": {},
   "source": [
    "# Distance to all other chemicals\n",
    "If we repeat the distance calculation from above we can do it towards all other chemicals. Making it a collaborative filtering. Doing this in both the CSV and Cypher we find the top 9 of the top 10 is the same. Both revealing that NSC 19893 looks to most like NSC 19893..."
   ]
  },
  {
   "cell_type": "code",
   "execution_count": 9,
   "metadata": {},
   "outputs": [
    {
     "name": "stdout",
     "output_type": "stream",
     "text": [
      "{'chem.name': 'nsc19893', 'avg_dist': 3.4386907735687276e-15, 'num_cell': 74}\n",
      "{'chem.name': 'nsc-684405', 'avg_dist': 0.3018711839192636, 'num_cell': 60}\n",
      "{'chem.name': 'nsc-361605', 'avg_dist': 0.3177947681672626, 'num_cell': 49}\n",
      "{'chem.name': 'nsc-628083', 'avg_dist': 0.33545731366684184, 'num_cell': 60}\n",
      "{'chem.name': 'nsc-618093', 'avg_dist': 0.3451951788719919, 'num_cell': 60}\n",
      "{'chem.name': 'nsc-613493', 'avg_dist': 0.35390246003660175, 'num_cell': 50}\n",
      "{'chem.name': 'nsc628537', 'avg_dist': 0.3781293960020346, 'num_cell': 46}\n",
      "{'chem.name': 'nsc-785594', 'avg_dist': 0.3781573653571885, 'num_cell': 60}\n",
      "{'chem.name': 'nsc-628081', 'avg_dist': 0.39269238426318265, 'num_cell': 60}\n",
      "{'chem.name': 'nsc-625429', 'avg_dist': 0.4004440031716282, 'num_cell': 48}\n",
      "{'chem.name': 'nsc-710905', 'avg_dist': 0.4049072484843805, 'num_cell': 56}\n",
      "{'chem.name': 'nsc-621349', 'avg_dist': 0.4075924911847263, 'num_cell': 44}\n",
      "{'chem.name': 'nsc7833', 'avg_dist': 0.4139957489909666, 'num_cell': 46}\n",
      "{'chem.name': 'nsc-651242', 'avg_dist': 0.416368477342317, 'num_cell': 46}\n",
      "{'chem.name': 'nsc-681451', 'avg_dist': 0.4167645615543845, 'num_cell': 60}\n",
      "{'chem.name': 'nsc-624425', 'avg_dist': 0.41939156006152106, 'num_cell': 39}\n",
      "{'chem.name': 'nsc-318800', 'avg_dist': 0.4206419564467129, 'num_cell': 60}\n",
      "{'chem.name': 'nsc-625425', 'avg_dist': 0.42470971884970227, 'num_cell': 48}\n",
      "{'chem.name': 'nsc 373980', 'avg_dist': 0.42489019715158455, 'num_cell': 59}\n",
      "{'chem.name': 'nsc633526', 'avg_dist': 0.4259808928485122, 'num_cell': 35}\n",
      "{'chem.name': 'nsc-671119', 'avg_dist': 0.42650349336974513, 'num_cell': 54}\n",
      "{'chem.name': 'nsc-630713', 'avg_dist': 0.4280882272160683, 'num_cell': 45}\n",
      "{'chem.name': 'nsc-625423', 'avg_dist': 0.42811317352604733, 'num_cell': 48}\n",
      "{'chem.name': 'nsc-647556', 'avg_dist': 0.42827081405514345, 'num_cell': 42}\n",
      "{'chem.name': 'nsc-655763', 'avg_dist': 0.4286369575741902, 'num_cell': 35}\n"
     ]
    }
   ],
   "source": [
    "response = graph.run(\n",
    "    \"\"\"\n",
    "    MATCH (org_chem:Synonym {pubChemSynId: \"176dde90cc9dd83eed129de11b203b03\"})\n",
    "    MATCH (gi50:Measurement {name: \"GI50\"})\n",
    "\n",
    "    MATCH (cell:CellLine)<-[:USES]-(c:Condition)-[:USES]->(org_chem)\n",
    "    MATCH (c)-[m:MEASURES]->(gi50)\n",
    "    WITH DISTINCT cell, avg(toFloat(m.value)) as values1, org_chem, gi50\n",
    "\n",
    "    CALL {\n",
    "        WITH cell, gi50, values1\n",
    "        MATCH (cell)<-[:USES]-(c:Condition)-[:USES]->(chem:Synonym)\n",
    "        MATCH (c)-[m2:MEASURES]->(gi50)\n",
    "        RETURN DISTINCT cell as cell2, abs(avg(toFloat(m2.value)) - values1) as distance,  chem\n",
    "    }\n",
    "\n",
    "    RETURN DISTINCT chem.name, avg(distance) as avg_dist, count(distance) as num_cell ORDER BY avg_dist limit 25\n",
    "    \"\"\"\n",
    ").data()\n",
    "for r in response:\n",
    "    print(r)"
   ]
  },
  {
   "cell_type": "code",
   "execution_count": 10,
   "metadata": {},
   "outputs": [
    {
     "data": {
      "text/plain": [
       "[[0.0, 19893],\n",
       " [0.30187383844471566, 684405],\n",
       " [0.3177915177279329, 361605],\n",
       " [0.3354599681922921, 628083],\n",
       " [0.3451978333974429, 618093],\n",
       " [0.35390564546714137, 613493],\n",
       " [0.37812593357753244, 628537],\n",
       " [0.37815471083173713, 785594],\n",
       " [0.39269503878863327, 628081],\n",
       " [0.3973611393190983, 80870]]"
      ]
     },
     "execution_count": 10,
     "metadata": {},
     "output_type": "execute_result"
    }
   ],
   "source": [
    "all_diffs_np = np.abs(np.expand_dims(correlation[19893].to_numpy(), 1) - correlation.to_numpy())\n",
    "all_diffs_2_19893 = []\n",
    "for nsc, mean in zip(correlation.columns, np.nanmean(all_diffs_np, 0)):\n",
    "    all_diffs_2_19893.append([mean, nsc])\n",
    "\n",
    "sorted(all_diffs_2_19893, key=lambda x: x[0])[:10]"
   ]
  },
  {
   "cell_type": "markdown",
   "metadata": {},
   "source": [
    "In order to use the filter for prediction we need to modify it a little bit. If we are interested in NSC 19893 effect on cell line 'HCT-15' we need to 2 things.\n",
    "1) Remove HCT-15 from the collaborative filtering\n",
    "2) Only select chemicals with an known reaction to HCT-15\n",
    "3) (Extra): Remove NSC 19893 from the predicted chemicals"
   ]
  },
  {
   "cell_type": "code",
   "execution_count": 11,
   "metadata": {},
   "outputs": [
    {
     "name": "stdout",
     "output_type": "stream",
     "text": [
      "{'chem.name': 'nsc-625429', 'cell.name': 'HCT-15', 'c': None}\n"
     ]
    }
   ],
   "source": [
    "# Example of nsc-625429 that has NO condition with HCT-15\n",
    "response = graph.run(\n",
    "    \"\"\"\n",
    "    MATCH (chem:Synonym {pubChemSynId: '30c187a8de84997a02fc1f9eb7eea01b'})\n",
    "    MATCH (cell:CellLine {name: \"HCT-15\"})\n",
    "    OPTIONAL MATCH (cell)<-[:USES]-(c:Condition)-[:USES]->(chem)\n",
    "    RETURN chem.name, cell.name, c\n",
    "    \"\"\"\n",
    ").data()\n",
    "for r in response:\n",
    "    print(r)"
   ]
  },
  {
   "cell_type": "code",
   "execution_count": 12,
   "metadata": {},
   "outputs": [
    {
     "name": "stdout",
     "output_type": "stream",
     "text": [
      "{'chem.name': 'nsc-684405', 'avg_dist': 0.30413082478114195, 'num_cell': 59}\n",
      "{'chem.name': 'nsc-361605', 'avg_dist': 0.31986023473182124, 'num_cell': 48}\n",
      "{'chem.name': 'nsc-628083', 'avg_dist': 0.33290434655834006, 'num_cell': 59}\n",
      "{'chem.name': 'nsc-618093', 'avg_dist': 0.34773573490256054, 'num_cell': 59}\n",
      "{'chem.name': 'nsc-613493', 'avg_dist': 0.35006572711758455, 'num_cell': 49}\n",
      "{'chem.name': 'nsc628537', 'avg_dist': 0.3772233298450033, 'num_cell': 45}\n",
      "{'chem.name': 'nsc-785594', 'avg_dist': 0.3796167720061503, 'num_cell': 59}\n",
      "{'chem.name': 'nsc-628081', 'avg_dist': 0.3897650963173308, 'num_cell': 59}\n",
      "{'chem.name': 'nsc-710905', 'avg_dist': 0.39922370076467034, 'num_cell': 55}\n",
      "{'chem.name': 'nsc-651242', 'avg_dist': 0.41289216854840305, 'num_cell': 45}\n",
      "{'chem.name': 'nsc-624425', 'avg_dist': 0.4140202228771283, 'num_cell': 38}\n",
      "{'chem.name': 'nsc7833', 'avg_dist': 0.420691262814509, 'num_cell': 45}\n",
      "{'chem.name': 'nsc-318800', 'avg_dist': 0.4212977120971919, 'num_cell': 59}\n",
      "{'chem.name': 'nsc-671119', 'avg_dist': 0.4218865333754301, 'num_cell': 53}\n",
      "{'chem.name': 'nsc-681451', 'avg_dist': 0.42280714102024813, 'num_cell': 59}\n",
      "{'chem.name': 'nsc633526', 'avg_dist': 0.4230390846067495, 'num_cell': 34}\n",
      "{'chem.name': 'nsc 373980', 'avg_dist': 0.42323136653232835, 'num_cell': 58}\n",
      "{'chem.name': 'nsc-633101', 'avg_dist': 0.42511318724757785, 'num_cell': 34}\n",
      "{'chem.name': 'nsc-647556', 'avg_dist': 0.4278529711523801, 'num_cell': 41}\n",
      "{'chem.name': 'nsc-633098', 'avg_dist': 0.42857710384732794, 'num_cell': 32}\n",
      "{'chem.name': 'nsc-649675', 'avg_dist': 0.42858082389787283, 'num_cell': 41}\n",
      "{'chem.name': 'nsc-658928', 'avg_dist': 0.4307923625261461, 'num_cell': 57}\n",
      "{'chem.name': 'nsc-633188', 'avg_dist': 0.4319521675821039, 'num_cell': 43}\n",
      "{'chem.name': 'nsc-722434', 'avg_dist': 0.4337635411972903, 'num_cell': 53}\n",
      "{'chem.name': 'nsc-625431', 'avg_dist': 0.43419980078640347, 'num_cell': 49}\n"
     ]
    }
   ],
   "source": [
    "response = graph.run(\n",
    "    \"\"\"\n",
    "    MATCH (org_chem:Synonym {pubChemSynId: \"176dde90cc9dd83eed129de11b203b03\"})\n",
    "    MATCH (the_cell:CellLine {name: \"HCT-15\"})\n",
    "    MATCH (gi50:Measurement {name: \"GI50\"})\n",
    "\n",
    "    MATCH (cell:CellLine)<-[:USES]-(c:Condition)-[:USES]->(org_chem)\n",
    "    WHERE cell <> the_cell // 1\n",
    "    MATCH (c)-[m:MEASURES]->(gi50)\n",
    "    WITH DISTINCT cell, avg(toFloat(m.value)) as values1, org_chem, gi50, the_cell\n",
    "    CALL {\n",
    "        WITH cell, gi50, values1, org_chem, the_cell\n",
    "        MATCH (cell)<-[:USES]-(c:Condition)-[:USES]->(chem:Synonym)\n",
    "        WHERE exists((chem)<-[:USES]-(:Condition)-[:USES]->(the_cell)) AND chem <> org_chem // 2 & 3\n",
    "        MATCH (c)-[m2:MEASURES]->(gi50)\n",
    "        RETURN DISTINCT cell as cell2, abs(avg(toFloat(m2.value)) - values1) as distance, chem\n",
    "    }\n",
    "\n",
    "    WITH DISTINCT chem, avg(distance) as avg_dist, count(distance) as num_cell \n",
    "    RETURN chem.name, avg_dist, num_cell ORDER BY avg_dist limit 25\n",
    "    \"\"\"\n",
    ").data()\n",
    "for r in response:\n",
    "    print(r)"
   ]
  },
  {
   "cell_type": "code",
   "execution_count": 20,
   "metadata": {},
   "outputs": [
    {
     "name": "stdout",
     "output_type": "stream",
     "text": [
      "{'the_cell': Node('CellLine', 'Resource', cellosaurusId='CVCL_0292', chemblId='CHEMBL3307945', description='HCT-15 (Colon adenocarcinoma cells)', name='HCT-15', organismName='Homo sapiens', uri='http://rdf.ebi.ac.uk/resource/chembl/cell_line/CHEMBL3307945'), 'avg(avg_value)': -4.8078468, 'org_chem': Node('Synonym', name='nsc19893', pubChemSynId='176dde90cc9dd83eed129de11b203b03')}\n"
     ]
    }
   ],
   "source": [
    "response = graph.run(\n",
    "    \"\"\"\n",
    "    MATCH (the_cell:CellLine {name: \"HCT-15\"})\n",
    "    MATCH (org_chem:Synonym {pubChemSynId: \"176dde90cc9dd83eed129de11b203b03\"})\n",
    "\n",
    "    CALL {\n",
    "        WITH the_cell, org_chem\n",
    "        \n",
    "        MATCH (gi50:Measurement {name: \"GI50\"})\n",
    "\n",
    "        MATCH (cell:CellLine)<-[:USES]-(c:Condition)-[:USES]->(org_chem)\n",
    "        WHERE cell <> the_cell // 1\n",
    "        MATCH (c)-[m:MEASURES]->(gi50)\n",
    "        WITH DISTINCT cell, avg(toFloat(m.value)) as values1, org_chem, gi50, the_cell\n",
    "        CALL {\n",
    "            WITH cell, gi50, values1, org_chem, the_cell\n",
    "            MATCH (cell)<-[:USES]-(c:Condition)-[:USES]->(chem:Synonym)\n",
    "            WHERE exists((chem)<-[:USES]-(:Condition)-[:USES]->(the_cell)) AND chem <> org_chem // 2 & 3\n",
    "            MATCH (c)-[m2:MEASURES]->(gi50)\n",
    "            RETURN DISTINCT cell as cell2, abs(avg(toFloat(m2.value)) - values1) as distance, chem\n",
    "        }\n",
    "\n",
    "        WITH DISTINCT chem, avg(distance) as avg_dist, count(distance) as num_cell \n",
    "        RETURN chem, avg_dist, num_cell ORDER BY avg_dist limit 25\n",
    "    }\n",
    "    MATCH (the_cell)<-[:USES]-(c:Condition)-[:USES]->(chem)\n",
    "    MATCH (c)-[m3:MEASURES]->(gi50)\n",
    "    \n",
    "    WITH DISTINCT chem, avg(toFloat(m3.value)) as avg_value, org_chem, the_cell\n",
    "    RETURN DISTINCT the_cell.name, avg(avg_value), org_chem\n",
    "    \"\"\"\n",
    ").data()\n",
    "for r in response:\n",
    "    print(r)"
   ]
  },
  {
   "cell_type": "code",
   "execution_count": 18,
   "metadata": {},
   "outputs": [
    {
     "name": "stdout",
     "output_type": "stream",
     "text": [
      "{'the_cell.name': 'HCT-15', 'value': -5.243602373068445, 'number_measurements': 1812}\n"
     ]
    }
   ],
   "source": [
    "response = graph.run(\n",
    "    \"\"\"\n",
    "    MATCH (org_chem:Synonym {pubChemSynId: \"176dde90cc9dd83eed129de11b203b03\"})\n",
    "    MATCH (the_cell:CellLine {name: \"HCT-15\"})\n",
    "    MATCH (gi50:Measurement {name: \"GI50\"})\n",
    "\n",
    "    MATCH (the_cell)<-[:USES]-(c:Condition)-[:USES]->(org_chem)\n",
    "    MATCH (c)-[m:MEASURES]->(gi50)\n",
    "\n",
    "    RETURN DISTINCT the_cell.name, avg(toFloat(m.value)) as value, count(m) as number_measurements\n",
    "    \"\"\"\n",
    ").data()\n",
    "for r in response:\n",
    "    print(r)"
   ]
  }
 ],
 "metadata": {
  "kernelspec": {
   "display_name": "Python 3.10.3 ('py3_10')",
   "language": "python",
   "name": "python3"
  },
  "language_info": {
   "codemirror_mode": {
    "name": "ipython",
    "version": 3
   },
   "file_extension": ".py",
   "mimetype": "text/x-python",
   "name": "python",
   "nbconvert_exporter": "python",
   "pygments_lexer": "ipython3",
   "version": "3.10.3"
  },
  "orig_nbformat": 4,
  "vscode": {
   "interpreter": {
    "hash": "97c55a9bc2d8432a6fab20a50ee29ed5b9bd890255b990ff7fcc839d98cc6ff6"
   }
  }
 },
 "nbformat": 4,
 "nbformat_minor": 2
}
